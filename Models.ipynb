{
 "cells": [
  {
   "cell_type": "code",
   "execution_count": 2,
   "metadata": {},
   "outputs": [],
   "source": [
    "from sklearn.linear_model import LogisticRegression\n",
    "from sklearn.model_selection import KFold\n",
    "from sklearn.metrics import mean_squared_error\n",
    "from sklearn import metrics\n",
    "import numpy as np\n",
    "import pandas as pd"
   ]
  },
  {
   "cell_type": "code",
   "execution_count": 3,
   "metadata": {},
   "outputs": [],
   "source": [
    "DataHouseVotes = pd.read_csv('house-votes-84.csv')"
   ]
  },
  {
   "cell_type": "code",
   "execution_count": 10,
   "metadata": {},
   "outputs": [],
   "source": [
    "df=DataHouseVotes\n",
    "df.replace('n',0, inplace=True)\n",
    "df.replace('y',1, inplace=True)\n",
    "df.replace('w', -1,inplace=True)\n",
    "df.replace('democrat', 1,inplace=True)\n",
    "df.replace('republican', 0,inplace=True)\n",
    "x = df.iloc[:, range(1,17)]\n",
    "y = df.iloc[:,0]\n",
    "kf = KFold(n_splits=5, random_state=233, shuffle=True)"
   ]
  },
  {
   "cell_type": "code",
   "execution_count": 11,
   "metadata": {},
   "outputs": [],
   "source": [
    "LogRegModel=LogisticRegression()\n",
    "kf = KFold(n_splits=5, random_state=233, shuffle=True)\n",
    "accuracy=0\n",
    "i=0\n",
    "for train_index, test_index in kf.split(x):\n",
    "    i+=1\n",
    "    train=train_index.tolist()\n",
    "    test=test_index.tolist()\n",
    "    x_train, x_test = x.iloc[train], x.iloc[test]\n",
    "    y_train, y_test = y.iloc[train_index], y[test_index]\n",
    "    fitted_model=LogRegModel.fit(x_train, y_train)\n",
    "    y_pred=LogRegModel.predict(x_test)"
   ]
  },
  {
   "cell_type": "code",
   "execution_count": 12,
   "metadata": {},
   "outputs": [],
   "source": [
    "#feature scaling\n",
    "from sklearn.preprocessing import StandardScaler\n",
    "sc_x = StandardScaler()\n",
    "x_train = sc_x.fit_transform(x_train)\n",
    "x_test = sc_x.fit_transform(x_test)"
   ]
  },
  {
   "cell_type": "code",
   "execution_count": 13,
   "metadata": {},
   "outputs": [
    {
     "data": {
      "text/plain": [
       "LogisticRegression(C=1.0, class_weight=None, dual=False, fit_intercept=True,\n",
       "          intercept_scaling=1, max_iter=100, multi_class='ovr', n_jobs=1,\n",
       "          penalty='l2', random_state=0, solver='liblinear', tol=0.0001,\n",
       "          verbose=0, warm_start=False)"
      ]
     },
     "execution_count": 13,
     "metadata": {},
     "output_type": "execute_result"
    }
   ],
   "source": [
    "#fitting\n",
    "from sklearn.linear_model import LogisticRegression\n",
    "classifier = LogisticRegression(random_state = 0)\n",
    "classifier.fit(x_train,y_train)"
   ]
  },
  {
   "cell_type": "code",
   "execution_count": 14,
   "metadata": {
    "scrolled": true
   },
   "outputs": [
    {
     "name": "stdout",
     "output_type": "stream",
     "text": [
      "Create a classification model of your choice (naive Bayes, logistic regression, Bayesian network, neural networks, etc.)\n"
     ]
    }
   ],
   "source": [
    "#predict\n",
    "y_pred = classifier.predict(x_test)\n",
    "print (\"Create a classification model of your choice (naive Bayes, logistic regression, Bayesian network, neural networks, etc.)\")"
   ]
  },
  {
   "cell_type": "code",
   "execution_count": 15,
   "metadata": {},
   "outputs": [
    {
     "name": "stdout",
     "output_type": "stream",
     "text": [
      "[[34  1]\n",
      " [ 2 50]]\n",
      "2) Find overall classification accuracy\n",
      "the accuracy is : 0.9655172413793104\n"
     ]
    }
   ],
   "source": [
    "from sklearn.metrics import confusion_matrix\n",
    "cm = confusion_matrix(y_test, y_pred)\n",
    "print (cm)\n",
    "print(\"2) Find overall classification accuracy\")\n",
    "print(\"the accuracy is :\",metrics.accuracy_score(y_test, y_pred))\n"
   ]
  },
  {
   "cell_type": "code",
   "execution_count": 16,
   "metadata": {},
   "outputs": [
    {
     "name": "stdout",
     "output_type": "stream",
     "text": [
      "3) Report sensitivity and specificity for each of the two parties\n",
      "sensitivity of democrat is: 0.9714285714285714\n",
      "specificity of democrat is: 0.9615384615384616\n"
     ]
    }
   ],
   "source": [
    "#from confusion matrix \n",
    "print(\"3) Report sensitivity and specificity for each of the two parties\")\n",
    "sensitivity_dem= cm[0,0]/(cm[0,0]+cm[0,1])\n",
    "specificity_dem= cm[1,1]/(cm[1,0]+cm[1,1])\n",
    "print ('sensitivity of democrat is:',(sensitivity_dem))\n",
    "print ('specificity of democrat is:',(specificity_dem))\n"
   ]
  },
  {
   "cell_type": "code",
   "execution_count": 17,
   "metadata": {},
   "outputs": [
    {
     "name": "stdout",
     "output_type": "stream",
     "text": [
      "sensitivity of republican is: 0.9615384615384616\n",
      "specificity of republican is: 0.9714285714285714\n"
     ]
    }
   ],
   "source": [
    "sensitivity_rep= cm[1,1]/(cm[1,0]+cm[1,1])\n",
    "specificity_rep= cm[0,0]/(cm[0,0]+cm[0,1])\n",
    "print ('sensitivity of republican is:',(sensitivity_rep))\n",
    "print ('specificity of republican is:',(specificity_rep))"
   ]
  },
  {
   "cell_type": "code",
   "execution_count": 122,
   "metadata": {},
   "outputs": [
    {
     "name": "stdout",
     "output_type": "stream",
     "text": [
      "4) Measure positive and negative predictive value for each of the two parties\n",
      "democrat positive predictive value(PPV) = TP/(TP+FP) = 0.9444444444444444\n",
      "democrat negative predictive value(NPV) = TN/(TN+FN) = 0.9803921568627451\n"
     ]
    }
   ],
   "source": [
    "#Measure positive and negative predictive value for each of the two parties\n",
    "print(\"4) Measure positive and negative predictive value for each of the two parties\")\n",
    "dem_PPV= cm[0,0]/(cm[0,0]+cm[1,0])\n",
    "dem_NPV= cm[1,1]/(cm[1,1]+cm[0,1])\n",
    "print (\"democrat positive predictive value(PPV) = TP/(TP+FP) =\",dem_PPV)\n",
    "print (\"democrat negative predictive value(NPV) = TN/(TN+FN) =\",dem_NPV)\n"
   ]
  },
  {
   "cell_type": "code",
   "execution_count": 123,
   "metadata": {},
   "outputs": [
    {
     "name": "stdout",
     "output_type": "stream",
     "text": [
      "republican positive predictive value(PPV) = TP/(TP+FP) = 0.9803921568627451\n",
      "republican negative predictive value(NPV) = TN/(TN+FN) = 0.9444444444444444\n"
     ]
    }
   ],
   "source": [
    "rep_PPV= cm[1,1]/(cm[1,1]+cm[0,1])\n",
    "rep_NPV= cm[0,0]/(cm[0,0]+cm[1,0])\n",
    "print (\"republican positive predictive value(PPV) = TP/(TP+FP) =\",rep_PPV)\n",
    "print (\"republican negative predictive value(NPV) = TN/(TN+FN) =\",rep_NPV)"
   ]
  },
  {
   "cell_type": "code",
   "execution_count": 126,
   "metadata": {},
   "outputs": [
    {
     "name": "stdout",
     "output_type": "stream",
     "text": [
      "5) Plot ROC curve of your model\n"
     ]
    },
    {
     "data": {
      "image/png": "[encoded data removed]",
      "text/plain": [
       "<matplotlib.figure.Figure at 0x1a18251780>"
      ]
     },
     "metadata": {},
     "output_type": "display_data"
    }
   ],
   "source": [
    "print(\"5) Plot ROC curve of your model\")\n",
    "fpr, tpr, thresholds = metrics.roc_curve(y_test, y_pred)\n",
    "\n",
    "plt.plot(fpr, tpr)\n",
    "plt.xlim([0.0, 1.0])\n",
    "plt.ylim([0.0, 1.0])\n",
    "plt.rcParams['font.size'] = 12\n",
    "plt.title('ROC curve for diabetes classifier')\n",
    "plt.xlabel('False Positive Rate (1 - Specificity)')\n",
    "plt.ylabel('True Positive Rate (Sensitivity)')\n",
    "plt.grid(True)"
   ]
  },
  {
   "cell_type": "code",
   "execution_count": null,
   "metadata": {},
   "outputs": [],
   "source": []
  }
 ],
 "metadata": {
  "kernelspec": {
   "display_name": "Python 3",
   "language": "python",
   "name": "python3"
  },
  "language_info": {
   "codemirror_mode": {
    "name": "ipython",
    "version": 3
   },
   "file_extension": ".py",
   "mimetype": "text/x-python",
   "name": "python",
   "nbconvert_exporter": "python",
   "pygments_lexer": "ipython3",
   "version": "3.6.4"
  }
 },
 "nbformat": 4,
 "nbformat_minor": 2
}
