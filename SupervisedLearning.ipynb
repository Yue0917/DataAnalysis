{
 "cells": [
  {
   "cell_type": "markdown",
   "metadata": {},
   "source": [
    "# DA_A7\n",
    "Ziyue Han(ZIH11)\n",
    "\n",
    "Ruofei Lai(RUL35)\n",
    "\n",
    "Shiqi Wang(SHW118 )"
   ]
  },
  {
   "cell_type": "code",
   "execution_count": 1,
   "metadata": {},
   "outputs": [],
   "source": [
    "from sklearn.model_selection import train_test_split\n",
    "from sklearn.linear_model import LogisticRegression\n",
    "from sklearn.datasets import load_iris\n",
    "from sklearn.model_selection import cross_val_score, KFold\n",
    "from sklearn.ensemble import RandomForestClassifier\n",
    "from sklearn.tree import DecisionTreeClassifier\n",
    "from sklearn.model_selection import GridSearchCV\n",
    "import matplotlib.pyplot as plt\n",
    "from matplotlib.pyplot import clf \n",
    "from sklearn.svm import SVC\n",
    "import seaborn as sns\n",
    "import pandas as pd\n",
    "import math\n",
    "import numpy as np\n",
    "from pandas.plotting import scatter_matrix\n",
    "from sklearn import model_selection\n",
    "from sklearn.metrics import classification_report\n",
    "from sklearn.metrics import confusion_matrix\n",
    "from sklearn.metrics import accuracy_score\n",
    "from sklearn.neighbors import KNeighborsClassifier\n",
    "from sklearn.discriminant_analysis import LinearDiscriminantAnalysis\n",
    "from sklearn.naive_bayes import GaussianNB\n",
    "from sklearn.preprocessing import PolynomialFeatures\n",
    "from sklearn.pipeline import make_pipeline\n",
    "from sklearn.feature_selection import RFE"
   ]
  },
  {
   "cell_type": "markdown",
   "metadata": {},
   "source": [
    "# 1 Iris"
   ]
  },
  {
   "cell_type": "code",
   "execution_count": 2,
   "metadata": {},
   "outputs": [
    {
     "name": "stdout",
     "output_type": "stream",
     "text": [
      "dict_keys(['data', 'target', 'target_names', 'DESCR', 'feature_names'])\n",
      "{'data': array([[5.1, 3.5, 1.4, 0.2],\n",
      "       [4.9, 3. , 1.4, 0.2],\n",
      "       [4.7, 3.2, 1.3, 0.2],\n",
      "       [4.6, 3.1, 1.5, 0.2],\n",
      "       [5. , 3.6, 1.4, 0.2],\n",
      "       [5.4, 3.9, 1.7, 0.4],\n",
      "       [4.6, 3.4, 1.4, 0.3],\n",
      "       [5. , 3.4, 1.5, 0.2],\n",
      "       [4.4, 2.9, 1.4, 0.2],\n",
      "       [4.9, 3.1, 1.5, 0.1],\n",
      "       [5.4, 3.7, 1.5, 0.2],\n",
      "       [4.8, 3.4, 1.6, 0.2],\n",
      "       [4.8, 3. , 1.4, 0.1],\n",
      "       [4.3, 3. , 1.1, 0.1],\n",
      "       [5.8, 4. , 1.2, 0.2],\n",
      "       [5.7, 4.4, 1.5, 0.4],\n",
      "       [5.4, 3.9, 1.3, 0.4],\n",
      "       [5.1, 3.5, 1.4, 0.3],\n",
      "       [5.7, 3.8, 1.7, 0.3],\n",
      "       [5.1, 3.8, 1.5, 0.3],\n",
      "       [5.4, 3.4, 1.7, 0.2],\n",
      "       [5.1, 3.7, 1.5, 0.4],\n",
      "       [4.6, 3.6, 1. , 0.2],\n",
      "       [5.1, 3.3, 1.7, 0.5],\n",
      "       [4.8, 3.4, 1.9, 0.2],\n",
      "       [5. , 3. , 1.6, 0.2],\n",
      "       [5. , 3.4, 1.6, 0.4],\n",
      "       [5.2, 3.5, 1.5, 0.2],\n",
      "       [5.2, 3.4, 1.4, 0.2],\n",
      "       [4.7, 3.2, 1.6, 0.2],\n",
      "       [4.8, 3.1, 1.6, 0.2],\n",
      "       [5.4, 3.4, 1.5, 0.4],\n",
      "       [5.2, 4.1, 1.5, 0.1],\n",
      "       [5.5, 4.2, 1.4, 0.2],\n",
      "       [4.9, 3.1, 1.5, 0.1],\n",
      "       [5. , 3.2, 1.2, 0.2],\n",
      "       [5.5, 3.5, 1.3, 0.2],\n",
      "       [4.9, 3.1, 1.5, 0.1],\n",
      "       [4.4, 3. , 1.3, 0.2],\n",
      "       [5.1, 3.4, 1.5, 0.2],\n",
      "       [5. , 3.5, 1.3, 0.3],\n",
      "       [4.5, 2.3, 1.3, 0.3],\n",
      "       [4.4, 3.2, 1.3, 0.2],\n",
      "       [5. , 3.5, 1.6, 0.6],\n",
      "       [5.1, 3.8, 1.9, 0.4],\n",
      "       [4.8, 3. , 1.4, 0.3],\n",
      "       [5.1, 3.8, 1.6, 0.2],\n",
      "       [4.6, 3.2, 1.4, 0.2],\n",
      "       [5.3, 3.7, 1.5, 0.2],\n",
      "       [5. , 3.3, 1.4, 0.2],\n",
      "       [7. , 3.2, 4.7, 1.4],\n",
      "       [6.4, 3.2, 4.5, 1.5],\n",
      "       [6.9, 3.1, 4.9, 1.5],\n",
      "       [5.5, 2.3, 4. , 1.3],\n",
      "       [6.5, 2.8, 4.6, 1.5],\n",
      "       [5.7, 2.8, 4.5, 1.3],\n",
      "       [6.3, 3.3, 4.7, 1.6],\n",
      "       [4.9, 2.4, 3.3, 1. ],\n",
      "       [6.6, 2.9, 4.6, 1.3],\n",
      "       [5.2, 2.7, 3.9, 1.4],\n",
      "       [5. , 2. , 3.5, 1. ],\n",
      "       [5.9, 3. , 4.2, 1.5],\n",
      "       [6. , 2.2, 4. , 1. ],\n",
      "       [6.1, 2.9, 4.7, 1.4],\n",
      "       [5.6, 2.9, 3.6, 1.3],\n",
      "       [6.7, 3.1, 4.4, 1.4],\n",
      "       [5.6, 3. , 4.5, 1.5],\n",
      "       [5.8, 2.7, 4.1, 1. ],\n",
      "       [6.2, 2.2, 4.5, 1.5],\n",
      "       [5.6, 2.5, 3.9, 1.1],\n",
      "       [5.9, 3.2, 4.8, 1.8],\n",
      "       [6.1, 2.8, 4. , 1.3],\n",
      "       [6.3, 2.5, 4.9, 1.5],\n",
      "       [6.1, 2.8, 4.7, 1.2],\n",
      "       [6.4, 2.9, 4.3, 1.3],\n",
      "       [6.6, 3. , 4.4, 1.4],\n",
      "       [6.8, 2.8, 4.8, 1.4],\n",
      "       [6.7, 3. , 5. , 1.7],\n",
      "       [6. , 2.9, 4.5, 1.5],\n",
      "       [5.7, 2.6, 3.5, 1. ],\n",
      "       [5.5, 2.4, 3.8, 1.1],\n",
      "       [5.5, 2.4, 3.7, 1. ],\n",
      "       [5.8, 2.7, 3.9, 1.2],\n",
      "       [6. , 2.7, 5.1, 1.6],\n",
      "       [5.4, 3. , 4.5, 1.5],\n",
      "       [6. , 3.4, 4.5, 1.6],\n",
      "       [6.7, 3.1, 4.7, 1.5],\n",
      "       [6.3, 2.3, 4.4, 1.3],\n",
      "       [5.6, 3. , 4.1, 1.3],\n",
      "       [5.5, 2.5, 4. , 1.3],\n",
      "       [5.5, 2.6, 4.4, 1.2],\n",
      "       [6.1, 3. , 4.6, 1.4],\n",
      "       [5.8, 2.6, 4. , 1.2],\n",
      "       [5. , 2.3, 3.3, 1. ],\n",
      "       [5.6, 2.7, 4.2, 1.3],\n",
      "       [5.7, 3. , 4.2, 1.2],\n",
      "       [5.7, 2.9, 4.2, 1.3],\n",
      "       [6.2, 2.9, 4.3, 1.3],\n",
      "       [5.1, 2.5, 3. , 1.1],\n",
      "       [5.7, 2.8, 4.1, 1.3],\n",
      "       [6.3, 3.3, 6. , 2.5],\n",
      "       [5.8, 2.7, 5.1, 1.9],\n",
      "       [7.1, 3. , 5.9, 2.1],\n",
      "       [6.3, 2.9, 5.6, 1.8],\n",
      "       [6.5, 3. , 5.8, 2.2],\n",
      "       [7.6, 3. , 6.6, 2.1],\n",
      "       [4.9, 2.5, 4.5, 1.7],\n",
      "       [7.3, 2.9, 6.3, 1.8],\n",
      "       [6.7, 2.5, 5.8, 1.8],\n",
      "       [7.2, 3.6, 6.1, 2.5],\n",
      "       [6.5, 3.2, 5.1, 2. ],\n",
      "       [6.4, 2.7, 5.3, 1.9],\n",
      "       [6.8, 3. , 5.5, 2.1],\n",
      "       [5.7, 2.5, 5. , 2. ],\n",
      "       [5.8, 2.8, 5.1, 2.4],\n",
      "       [6.4, 3.2, 5.3, 2.3],\n",
      "       [6.5, 3. , 5.5, 1.8],\n",
      "       [7.7, 3.8, 6.7, 2.2],\n",
      "       [7.7, 2.6, 6.9, 2.3],\n",
      "       [6. , 2.2, 5. , 1.5],\n",
      "       [6.9, 3.2, 5.7, 2.3],\n",
      "       [5.6, 2.8, 4.9, 2. ],\n",
      "       [7.7, 2.8, 6.7, 2. ],\n",
      "       [6.3, 2.7, 4.9, 1.8],\n",
      "       [6.7, 3.3, 5.7, 2.1],\n",
      "       [7.2, 3.2, 6. , 1.8],\n",
      "       [6.2, 2.8, 4.8, 1.8],\n",
      "       [6.1, 3. , 4.9, 1.8],\n",
      "       [6.4, 2.8, 5.6, 2.1],\n",
      "       [7.2, 3. , 5.8, 1.6],\n",
      "       [7.4, 2.8, 6.1, 1.9],\n",
      "       [7.9, 3.8, 6.4, 2. ],\n",
      "       [6.4, 2.8, 5.6, 2.2],\n",
      "       [6.3, 2.8, 5.1, 1.5],\n",
      "       [6.1, 2.6, 5.6, 1.4],\n",
      "       [7.7, 3. , 6.1, 2.3],\n",
      "       [6.3, 3.4, 5.6, 2.4],\n",
      "       [6.4, 3.1, 5.5, 1.8],\n",
      "       [6. , 3. , 4.8, 1.8],\n",
      "       [6.9, 3.1, 5.4, 2.1],\n",
      "       [6.7, 3.1, 5.6, 2.4],\n",
      "       [6.9, 3.1, 5.1, 2.3],\n",
      "       [5.8, 2.7, 5.1, 1.9],\n",
      "       [6.8, 3.2, 5.9, 2.3],\n",
      "       [6.7, 3.3, 5.7, 2.5],\n",
      "       [6.7, 3. , 5.2, 2.3],\n",
      "       [6.3, 2.5, 5. , 1.9],\n",
      "       [6.5, 3. , 5.2, 2. ],\n",
      "       [6.2, 3.4, 5.4, 2.3],\n",
      "       [5.9, 3. , 5.1, 1.8]]), 'target': array([0, 0, 0, 0, 0, 0, 0, 0, 0, 0, 0, 0, 0, 0, 0, 0, 0, 0, 0, 0, 0, 0,\n",
      "       0, 0, 0, 0, 0, 0, 0, 0, 0, 0, 0, 0, 0, 0, 0, 0, 0, 0, 0, 0, 0, 0,\n",
      "       0, 0, 0, 0, 0, 0, 1, 1, 1, 1, 1, 1, 1, 1, 1, 1, 1, 1, 1, 1, 1, 1,\n",
      "       1, 1, 1, 1, 1, 1, 1, 1, 1, 1, 1, 1, 1, 1, 1, 1, 1, 1, 1, 1, 1, 1,\n",
      "       1, 1, 1, 1, 1, 1, 1, 1, 1, 1, 1, 1, 2, 2, 2, 2, 2, 2, 2, 2, 2, 2,\n",
      "       2, 2, 2, 2, 2, 2, 2, 2, 2, 2, 2, 2, 2, 2, 2, 2, 2, 2, 2, 2, 2, 2,\n",
      "       2, 2, 2, 2, 2, 2, 2, 2, 2, 2, 2, 2, 2, 2, 2, 2, 2, 2]), 'target_names': array(['setosa', 'versicolor', 'virginica'], dtype='<U10'), 'DESCR': 'Iris Plants Database\\n====================\\n\\nNotes\\n-----\\nData Set Characteristics:\\n    :Number of Instances: 150 (50 in each of three classes)\\n    :Number of Attributes: 4 numeric, predictive attributes and the class\\n    :Attribute Information:\\n        - sepal length in cm\\n        - sepal width in cm\\n        - petal length in cm\\n        - petal width in cm\\n        - class:\\n                - Iris-Setosa\\n                - Iris-Versicolour\\n                - Iris-Virginica\\n    :Summary Statistics:\\n\\n    ============== ==== ==== ======= ===== ====================\\n                    Min  Max   Mean    SD   Class Correlation\\n    ============== ==== ==== ======= ===== ====================\\n    sepal length:   4.3  7.9   5.84   0.83    0.7826\\n    sepal width:    2.0  4.4   3.05   0.43   -0.4194\\n    petal length:   1.0  6.9   3.76   1.76    0.9490  (high!)\\n    petal width:    0.1  2.5   1.20  0.76     0.9565  (high!)\\n    ============== ==== ==== ======= ===== ====================\\n\\n    :Missing Attribute Values: None\\n    :Class Distribution: 33.3% for each of 3 classes.\\n    :Creator: R.A. Fisher\\n    :Donor: Michael Marshall (MARSHALL%PLU@io.arc.nasa.gov)\\n    :Date: July, 1988\\n\\nThis is a copy of UCI ML iris datasets.\\nhttp://archive.ics.uci.edu/ml/datasets/Iris\\n\\nThe famous Iris database, first used by Sir R.A Fisher\\n\\nThis is perhaps the best known database to be found in the\\npattern recognition literature.  Fisher\\'s paper is a classic in the field and\\nis referenced frequently to this day.  (See Duda & Hart, for example.)  The\\ndata set contains 3 classes of 50 instances each, where each class refers to a\\ntype of iris plant.  One class is linearly separable from the other 2; the\\nlatter are NOT linearly separable from each other.\\n\\nReferences\\n----------\\n   - Fisher,R.A. \"The use of multiple measurements in taxonomic problems\"\\n     Annual Eugenics, 7, Part II, 179-188 (1936); also in \"Contributions to\\n     Mathematical Statistics\" (John Wiley, NY, 1950).\\n   - Duda,R.O., & Hart,P.E. (1973) Pattern Classification and Scene Analysis.\\n     (Q327.D83) John Wiley & Sons.  ISBN 0-471-22361-1.  See page 218.\\n   - Dasarathy, B.V. (1980) \"Nosing Around the Neighborhood: A New System\\n     Structure and Classification Rule for Recognition in Partially Exposed\\n     Environments\".  IEEE Transactions on Pattern Analysis and Machine\\n     Intelligence, Vol. PAMI-2, No. 1, 67-71.\\n   - Gates, G.W. (1972) \"The Reduced Nearest Neighbor Rule\".  IEEE Transactions\\n     on Information Theory, May 1972, 431-433.\\n   - See also: 1988 MLC Proceedings, 54-64.  Cheeseman et al\"s AUTOCLASS II\\n     conceptual clustering system finds 3 classes in the data.\\n   - Many, many more ...\\n', 'feature_names': ['sepal length (cm)', 'sepal width (cm)', 'petal length (cm)', 'petal width (cm)']}\n"
     ]
    }
   ],
   "source": [
    "# Load data\n",
    "iris=load_iris()\n",
    "print(iris.keys())\n",
    "print(iris)"
   ]
  },
  {
   "cell_type": "code",
   "execution_count": 3,
   "metadata": {},
   "outputs": [
    {
     "data": {
      "text/html": [
       "<div>\n",
       "<style scoped>\n",
       "    .dataframe tbody tr th:only-of-type {\n",
       "        vertical-align: middle;\n",
       "    }\n",
       "\n",
       "    .dataframe tbody tr th {\n",
       "        vertical-align: top;\n",
       "    }\n",
       "\n",
       "    .dataframe thead th {\n",
       "        text-align: right;\n",
       "    }\n",
       "</style>\n",
       "<table border=\"1\" class=\"dataframe\">\n",
       "  <thead>\n",
       "    <tr style=\"text-align: right;\">\n",
       "      <th></th>\n",
       "      <th>sepal length (cm)</th>\n",
       "      <th>sepal width (cm)</th>\n",
       "      <th>petal length (cm)</th>\n",
       "      <th>petal width (cm)</th>\n",
       "      <th>target</th>\n",
       "    </tr>\n",
       "  </thead>\n",
       "  <tbody>\n",
       "    <tr>\n",
       "      <th>0</th>\n",
       "      <td>5.1</td>\n",
       "      <td>3.5</td>\n",
       "      <td>1.4</td>\n",
       "      <td>0.2</td>\n",
       "      <td>0.0</td>\n",
       "    </tr>\n",
       "    <tr>\n",
       "      <th>1</th>\n",
       "      <td>4.9</td>\n",
       "      <td>3.0</td>\n",
       "      <td>1.4</td>\n",
       "      <td>0.2</td>\n",
       "      <td>0.0</td>\n",
       "    </tr>\n",
       "    <tr>\n",
       "      <th>2</th>\n",
       "      <td>4.7</td>\n",
       "      <td>3.2</td>\n",
       "      <td>1.3</td>\n",
       "      <td>0.2</td>\n",
       "      <td>0.0</td>\n",
       "    </tr>\n",
       "    <tr>\n",
       "      <th>3</th>\n",
       "      <td>4.6</td>\n",
       "      <td>3.1</td>\n",
       "      <td>1.5</td>\n",
       "      <td>0.2</td>\n",
       "      <td>0.0</td>\n",
       "    </tr>\n",
       "    <tr>\n",
       "      <th>4</th>\n",
       "      <td>5.0</td>\n",
       "      <td>3.6</td>\n",
       "      <td>1.4</td>\n",
       "      <td>0.2</td>\n",
       "      <td>0.0</td>\n",
       "    </tr>\n",
       "  </tbody>\n",
       "</table>\n",
       "</div>"
      ],
      "text/plain": [
       "   sepal length (cm)  sepal width (cm)  petal length (cm)  petal width (cm)  \\\n",
       "0                5.1               3.5                1.4               0.2   \n",
       "1                4.9               3.0                1.4               0.2   \n",
       "2                4.7               3.2                1.3               0.2   \n",
       "3                4.6               3.1                1.5               0.2   \n",
       "4                5.0               3.6                1.4               0.2   \n",
       "\n",
       "   target  \n",
       "0     0.0  \n",
       "1     0.0  \n",
       "2     0.0  \n",
       "3     0.0  \n",
       "4     0.0  "
      ]
     },
     "execution_count": 3,
     "metadata": {},
     "output_type": "execute_result"
    }
   ],
   "source": [
    "iris = pd.DataFrame(data= np.c_[iris['data'],iris['target']], columns=iris['feature_names']+['target'])\n",
    "iris.head()"
   ]
  },
  {
   "cell_type": "code",
   "execution_count": 4,
   "metadata": {},
   "outputs": [
    {
     "data": {
      "text/html": [
       "<div>\n",
       "<style scoped>\n",
       "    .dataframe tbody tr th:only-of-type {\n",
       "        vertical-align: middle;\n",
       "    }\n",
       "\n",
       "    .dataframe tbody tr th {\n",
       "        vertical-align: top;\n",
       "    }\n",
       "\n",
       "    .dataframe thead th {\n",
       "        text-align: right;\n",
       "    }\n",
       "</style>\n",
       "<table border=\"1\" class=\"dataframe\">\n",
       "  <thead>\n",
       "    <tr style=\"text-align: right;\">\n",
       "      <th></th>\n",
       "      <th>sepal length (cm)</th>\n",
       "      <th>sepal width (cm)</th>\n",
       "      <th>petal length (cm)</th>\n",
       "      <th>petal width (cm)</th>\n",
       "      <th>target</th>\n",
       "    </tr>\n",
       "  </thead>\n",
       "  <tbody>\n",
       "    <tr>\n",
       "      <th>count</th>\n",
       "      <td>150.000000</td>\n",
       "      <td>150.000000</td>\n",
       "      <td>150.000000</td>\n",
       "      <td>150.000000</td>\n",
       "      <td>150.000000</td>\n",
       "    </tr>\n",
       "    <tr>\n",
       "      <th>mean</th>\n",
       "      <td>5.843333</td>\n",
       "      <td>3.054000</td>\n",
       "      <td>3.758667</td>\n",
       "      <td>1.198667</td>\n",
       "      <td>1.000000</td>\n",
       "    </tr>\n",
       "    <tr>\n",
       "      <th>std</th>\n",
       "      <td>0.828066</td>\n",
       "      <td>0.433594</td>\n",
       "      <td>1.764420</td>\n",
       "      <td>0.763161</td>\n",
       "      <td>0.819232</td>\n",
       "    </tr>\n",
       "    <tr>\n",
       "      <th>min</th>\n",
       "      <td>4.300000</td>\n",
       "      <td>2.000000</td>\n",
       "      <td>1.000000</td>\n",
       "      <td>0.100000</td>\n",
       "      <td>0.000000</td>\n",
       "    </tr>\n",
       "    <tr>\n",
       "      <th>25%</th>\n",
       "      <td>5.100000</td>\n",
       "      <td>2.800000</td>\n",
       "      <td>1.600000</td>\n",
       "      <td>0.300000</td>\n",
       "      <td>0.000000</td>\n",
       "    </tr>\n",
       "    <tr>\n",
       "      <th>50%</th>\n",
       "      <td>5.800000</td>\n",
       "      <td>3.000000</td>\n",
       "      <td>4.350000</td>\n",
       "      <td>1.300000</td>\n",
       "      <td>1.000000</td>\n",
       "    </tr>\n",
       "    <tr>\n",
       "      <th>75%</th>\n",
       "      <td>6.400000</td>\n",
       "      <td>3.300000</td>\n",
       "      <td>5.100000</td>\n",
       "      <td>1.800000</td>\n",
       "      <td>2.000000</td>\n",
       "    </tr>\n",
       "    <tr>\n",
       "      <th>max</th>\n",
       "      <td>7.900000</td>\n",
       "      <td>4.400000</td>\n",
       "      <td>6.900000</td>\n",
       "      <td>2.500000</td>\n",
       "      <td>2.000000</td>\n",
       "    </tr>\n",
       "  </tbody>\n",
       "</table>\n",
       "</div>"
      ],
      "text/plain": [
       "       sepal length (cm)  sepal width (cm)  petal length (cm)  \\\n",
       "count         150.000000        150.000000         150.000000   \n",
       "mean            5.843333          3.054000           3.758667   \n",
       "std             0.828066          0.433594           1.764420   \n",
       "min             4.300000          2.000000           1.000000   \n",
       "25%             5.100000          2.800000           1.600000   \n",
       "50%             5.800000          3.000000           4.350000   \n",
       "75%             6.400000          3.300000           5.100000   \n",
       "max             7.900000          4.400000           6.900000   \n",
       "\n",
       "       petal width (cm)      target  \n",
       "count        150.000000  150.000000  \n",
       "mean           1.198667    1.000000  \n",
       "std            0.763161    0.819232  \n",
       "min            0.100000    0.000000  \n",
       "25%            0.300000    0.000000  \n",
       "50%            1.300000    1.000000  \n",
       "75%            1.800000    2.000000  \n",
       "max            2.500000    2.000000  "
      ]
     },
     "execution_count": 4,
     "metadata": {},
     "output_type": "execute_result"
    }
   ],
   "source": [
    "iris.describe()"
   ]
  },
  {
   "cell_type": "code",
   "execution_count": 5,
   "metadata": {},
   "outputs": [],
   "source": [
    "x = iris.iloc[:,range(0, 4)]\n",
    "y = iris.iloc[:, 4]\n",
    "x_train, x_test, y_train, y_test = train_test_split(x, y, random_state=0)"
   ]
  },
  {
   "cell_type": "code",
   "execution_count": 6,
   "metadata": {},
   "outputs": [],
   "source": [
    "def tuningPara_crossValid(model, param_grid):\n",
    "    kfold = KFold(n_splits=5, random_state=0, shuffle=True)\n",
    "    grid_search = GridSearchCV(model, param_grid, cv=kfold)\n",
    "    grid_search.fit(x_train, y_train)\n",
    "    accuracy = grid_search.score(x_test, y_test)\n",
    "    print('Best parameters: {}'.format(grid_search.best_params_))\n",
    "    print('Best cross-validation score:', grid_search.best_score_)\n",
    "    print('The accuracy score is:', accuracy)"
   ]
  },
  {
   "cell_type": "markdown",
   "metadata": {},
   "source": [
    "## Logistic Regression: parameter tuning & cross validation"
   ]
  },
  {
   "cell_type": "code",
   "execution_count": 7,
   "metadata": {
    "scrolled": true
   },
   "outputs": [
    {
     "name": "stdout",
     "output_type": "stream",
     "text": [
      "Best parameters: {'C': 10, 'penalty': 'l2'}\n",
      "Best cross-validation score: 0.9732142857142857\n",
      "The accuracy score is: 0.9210526315789473\n"
     ]
    }
   ],
   "source": [
    "# tunning parameters\n",
    "param_grid = {'penalty':['l1', 'l2'], \n",
    "              'C': [0.001, 0.01, 0.1, 1, 10, 100]}\n",
    "LR = LogisticRegression()\n",
    "tuningPara_crossValid(LR, param_grid)"
   ]
  },
  {
   "cell_type": "markdown",
   "metadata": {},
   "source": [
    "## Random Forest: parameter tuning & cross validation"
   ]
  },
  {
   "cell_type": "code",
   "execution_count": 8,
   "metadata": {},
   "outputs": [
    {
     "name": "stdout",
     "output_type": "stream",
     "text": [
      "Best parameters: {'max_depth': 2, 'n_estimators': 4}\n",
      "Best cross-validation score: 0.9642857142857143\n",
      "The accuracy score is: 0.8947368421052632\n"
     ]
    }
   ],
   "source": [
    "# tunning parameters \n",
    "# max_feature for classification problem is sqrt(n_features)\n",
    "param_grid = {'n_estimators': [2, 3, 4, 5],\n",
    "              'max_depth':[2, 3, 4, 5]}\n",
    "RFC = RandomForestClassifier(max_features=2, n_jobs=-1)\n",
    "tuningPara_crossValid(RFC, param_grid)"
   ]
  },
  {
   "cell_type": "markdown",
   "metadata": {},
   "source": [
    "## Decision Tree: parameter tuning & cross validation"
   ]
  },
  {
   "cell_type": "code",
   "execution_count": 9,
   "metadata": {},
   "outputs": [
    {
     "name": "stdout",
     "output_type": "stream",
     "text": [
      "Best parameters: {'max_depth': 3}\n",
      "Best cross-validation score: 0.9732142857142857\n",
      "The accuracy score is: 0.9736842105263158\n"
     ]
    }
   ],
   "source": [
    "param_grid = {'max_depth':[1,2,3,4,5]}\n",
    "DTC = DecisionTreeClassifier()\n",
    "tuningPara_crossValid(DTC, param_grid)"
   ]
  },
  {
   "cell_type": "markdown",
   "metadata": {},
   "source": [
    "We can see that the model Decision Tree with the parameters ('max_depth':3) performs better, it get the highest accuracy 0.9736842105263158. "
   ]
  },
  {
   "cell_type": "markdown",
   "metadata": {},
   "source": [
    "## Correlation Matrix & Feature selection"
   ]
  },
  {
   "cell_type": "code",
   "execution_count": 15,
   "metadata": {},
   "outputs": [
    {
     "data": {
      "text/html": [
       "<div>\n",
       "<style scoped>\n",
       "    .dataframe tbody tr th:only-of-type {\n",
       "        vertical-align: middle;\n",
       "    }\n",
       "\n",
       "    .dataframe tbody tr th {\n",
       "        vertical-align: top;\n",
       "    }\n",
       "\n",
       "    .dataframe thead th {\n",
       "        text-align: right;\n",
       "    }\n",
       "</style>\n",
       "<table border=\"1\" class=\"dataframe\">\n",
       "  <thead>\n",
       "    <tr style=\"text-align: right;\">\n",
       "      <th></th>\n",
       "      <th>sepal length (cm)</th>\n",
       "      <th>sepal width (cm)</th>\n",
       "      <th>petal length (cm)</th>\n",
       "      <th>petal width (cm)</th>\n",
       "      <th>target</th>\n",
       "    </tr>\n",
       "  </thead>\n",
       "  <tbody>\n",
       "    <tr>\n",
       "      <th>sepal length (cm)</th>\n",
       "      <td>1.000000</td>\n",
       "      <td>-0.109369</td>\n",
       "      <td>0.871754</td>\n",
       "      <td>0.817954</td>\n",
       "      <td>0.782561</td>\n",
       "    </tr>\n",
       "    <tr>\n",
       "      <th>petal length (cm)</th>\n",
       "      <td>0.871754</td>\n",
       "      <td>-0.420516</td>\n",
       "      <td>1.000000</td>\n",
       "      <td>0.962757</td>\n",
       "      <td>0.949043</td>\n",
       "    </tr>\n",
       "    <tr>\n",
       "      <th>petal width (cm)</th>\n",
       "      <td>0.817954</td>\n",
       "      <td>-0.356544</td>\n",
       "      <td>0.962757</td>\n",
       "      <td>1.000000</td>\n",
       "      <td>0.956464</td>\n",
       "    </tr>\n",
       "    <tr>\n",
       "      <th>target</th>\n",
       "      <td>0.782561</td>\n",
       "      <td>-0.419446</td>\n",
       "      <td>0.949043</td>\n",
       "      <td>0.956464</td>\n",
       "      <td>1.000000</td>\n",
       "    </tr>\n",
       "  </tbody>\n",
       "</table>\n",
       "</div>"
      ],
      "text/plain": [
       "<div>\n",
       "<style scoped>\n",
       "    .dataframe tbody tr th:only-of-type {\n",
       "        vertical-align: middle;\n",
       "    }\n",
       "\n",
       "    .dataframe tbody tr th {\n",
       "        vertical-align: top;\n",
       "    }\n",
       "\n",
       "    .dataframe thead th {\n",
       "        text-align: right;\n",
       "    }\n",
       "</style>\n",
       "<table border=\"1\" class=\"dataframe\">\n",
       "  <thead>\n",
       "    <tr style=\"text-align: right;\">\n",
       "      <th></th>\n",
       "      <th>sepal length (cm)</th>\n",
       "      <th>sepal width (cm)</th>\n",
       "      <th>petal length (cm)</th>\n",
       "      <th>petal width (cm)</th>\n",
       "      <th>target</th>\n",
       "    </tr>\n",
       "  </thead>\n",
       "  <tbody>\n",
       "    <tr>\n",
       "      <th>sepal length (cm)</th>\n",
       "      <td>1.000000</td>\n",
       "      <td>-0.109369</td>\n",
       "      <td>0.871754</td>\n",
       "      <td>0.817954</td>\n",
       "      <td>0.782561</td>\n",
       "    </tr>\n",
       "    <tr>\n",
       "      <th>petal length (cm)</th>\n",
       "      <td>0.871754</td>\n",
       "      <td>-0.420516</td>\n",
       "      <td>1.000000</td>\n",
       "      <td>0.962757</td>\n",
       "      <td>0.949043</td>\n",
       "    </tr>\n",
       "    <tr>\n",
       "      <th>petal width (cm)</th>\n",
       "      <td>0.817954</td>\n",
       "      <td>-0.356544</td>\n",
       "      <td>0.962757</td>\n",
       "      <td>1.000000</td>\n",
       "      <td>0.956464</td>\n",
       "    </tr>\n",
       "    <tr>\n",
       "      <th>target</th>\n",
       "      <td>0.782561</td>\n",
       "      <td>-0.419446</td>\n",
       "      <td>0.949043</td>\n",
       "      <td>0.956464</td>\n",
       "      <td>1.000000</td>\n",
       "    </tr>\n",
       "  </tbody>\n",
       "</table>\n",
       "</div>"
      ]
     },
     "execution_count": 15,
     "metadata": {},
     "output_type": "execute_result"
    },
    {
     "data": {
      "image/png": "[encoded data removed]",
      "text/plain": [
       "<matplotlib.figure.Figure at 0x1a1beb7278>"
      ]
     },
     "metadata": {},
     "output_type": "display_data"
    }
   ],
   "source": [
    "corrmat = iris.corr()\n",
    "sns.heatmap(corrmat, vmax = 0.9, square = True)\n",
    "corrmat[corrmat['target'] > 0.5]"
   ]
  },
  {
   "cell_type": "markdown",
   "metadata": {},
   "source": [
    "# Logistic Regression"
   ]
  },
  {
   "cell_type": "code",
   "execution_count": 10,
   "metadata": {},
   "outputs": [
    {
     "name": "stdout",
     "output_type": "stream",
     "text": [
      "The original result: \n",
      "LR: 0.933333 (0.050000)\n"
     ]
    }
   ],
   "source": [
    "# The original dataframe\n",
    "x = iris.iloc[:,range(0, 4)]\n",
    "y = iris.iloc[:, 4]\n",
    "validation_size = 0.20\n",
    "seed = 1\n",
    "X_train, X_validation, Y_train, Y_validation = model_selection.train_test_split(x, y, test_size=validation_size, random_state=seed)\n",
    "scoring='accuracy'\n",
    "models=[]\n",
    "models.append(('LR',LogisticRegression()))\n",
    "results = []\n",
    "names = []\n",
    "print('The original result: ')\n",
    "for name, model in models:\n",
    "    kfold = model_selection.KFold(n_splits=10, random_state=seed)\n",
    "    cv_results = model_selection.cross_val_score(model, X_train, Y_train, cv=kfold, scoring=scoring)\n",
    "    results.append(cv_results)\n",
    "    names.append(name)\n",
    "    msg = \"%s: %f (%f)\" % (name, cv_results.mean(), cv_results.std())\n",
    "    print(msg)"
   ]
  },
  {
   "cell_type": "markdown",
   "metadata": {},
   "source": [
    "### we select the top 3 Correlation features according to correlation matrix"
   ]
  },
  {
   "cell_type": "code",
   "execution_count": 11,
   "metadata": {},
   "outputs": [
    {
     "name": "stdout",
     "output_type": "stream",
     "text": [
      "After feature selection: \n",
      "LR: 0.925000 (0.069222)\n"
     ]
    }
   ],
   "source": [
    "# Feature selection for LR\n",
    "x = iris[['sepal length (cm)','petal length (cm)','petal width (cm)']]\n",
    "y = iris.iloc[:, 4]\n",
    "validation_size = 0.20\n",
    "seed = 1\n",
    "X_train, X_validation, Y_train, Y_validation = model_selection.train_test_split(x, y, test_size=validation_size, random_state=seed)\n",
    "scoring='accuracy'\n",
    "models=[]\n",
    "models.append(('LR',LogisticRegression()))\n",
    "results = []\n",
    "names = []\n",
    "print('After feature selection: ')\n",
    "for name, model in models:\n",
    "    kfold = model_selection.KFold(n_splits=10, random_state=seed)\n",
    "    cv_results = model_selection.cross_val_score(model, X_train, Y_train, cv=kfold, scoring=scoring)\n",
    "    results.append(cv_results)\n",
    "    names.append(name)\n",
    "    msg = \"%s: %f (%f)\" % (name, cv_results.mean(), cv_results.std())\n",
    "    print(msg)"
   ]
  },
  {
   "cell_type": "code",
   "execution_count": 12,
   "metadata": {
    "scrolled": true
   },
   "outputs": [
    {
     "name": "stdout",
     "output_type": "stream",
     "text": [
      "LR: 0.964394 (0.043658)\n"
     ]
    }
   ],
   "source": [
    "# Feature expansion, interaction_only=True\n",
    "x = iris.iloc[:,range(0, 4)]\n",
    "y = iris.iloc[:, 4]\n",
    "X_train, X_validation, Y_train, Y_validation = model_selection.train_test_split(x, y, test_size=validation_size, random_state=seed)\n",
    "validation_size = 0.20\n",
    "seed = 1\n",
    "models=[]\n",
    "models.append(('LR',LogisticRegression()))\n",
    "results = []\n",
    "names = []\n",
    "scoring='accuracy'\n",
    "for name, model in models:\n",
    "    kfold = model_selection.KFold(n_splits=10, random_state=seed)\n",
    "    model_inter_true = make_pipeline(PolynomialFeatures(2,interaction_only=True), model)\n",
    "    cv_results = model_selection.cross_val_score(model_inter_true, x_train, y_train, cv=kfold, scoring=scoring)\n",
    "    results.append(cv_results)\n",
    "    names.append(name)\n",
    "    msg = \"%s: %f (%f)\" % (name, cv_results.mean(), cv_results.std())\n",
    "    print(msg)"
   ]
  },
  {
   "cell_type": "code",
   "execution_count": 13,
   "metadata": {},
   "outputs": [
    {
     "name": "stdout",
     "output_type": "stream",
     "text": [
      "LR: 0.950000 (0.076376)\n"
     ]
    }
   ],
   "source": [
    "# Feature Selection  + Feature Expension for LR\n",
    "# interaction_only =  True\n",
    "x = iris[['sepal length (cm)','petal length (cm)','petal width (cm)']]\n",
    "y = iris.iloc[:, 4]\n",
    "X_train, X_validation, Y_train, Y_validation = model_selection.train_test_split(x, y, test_size=validation_size, random_state=seed)\n",
    "models=[]\n",
    "models.append(('LR',LogisticRegression()))\n",
    "results = []\n",
    "names = []\n",
    "for name, model in models:\n",
    "    kfold = model_selection.KFold(n_splits=10, random_state=seed)\n",
    "    model_inter_true = make_pipeline(PolynomialFeatures(2,interaction_only=True), model)\n",
    "    cv_results = model_selection.cross_val_score(model_inter_true, X_train, Y_train, cv=kfold, scoring=scoring)\n",
    "    results.append(cv_results)\n",
    "    names.append(name)\n",
    "    msg = \"%s: %f (%f)\" % (name, cv_results.mean(), cv_results.std())\n",
    "    print(msg)"
   ]
  },
  {
   "cell_type": "code",
   "execution_count": 14,
   "metadata": {},
   "outputs": [
    {
     "name": "stdout",
     "output_type": "stream",
     "text": [
      "LR: 0.966667 (0.055277)\n"
     ]
    }
   ],
   "source": [
    "# Feature Selection  + Feature Expension for LR\n",
    "# interaction_only =  False\n",
    "models=[]\n",
    "models.append(('LR',LogisticRegression()))\n",
    "results = []\n",
    "names = []\n",
    "for name, model in models:\n",
    "    kfold = model_selection.KFold(n_splits=10, random_state=seed)\n",
    "    model_inter_true = make_pipeline(PolynomialFeatures(2,interaction_only=False), model)\n",
    "    cv_results = model_selection.cross_val_score(model_inter_true, X_train, Y_train, cv=kfold, scoring=scoring)\n",
    "    results.append(cv_results)\n",
    "    names.append(name)\n",
    "    msg = \"%s: %f (%f)\" % (name, cv_results.mean(), cv_results.std())\n",
    "    print(msg)"
   ]
  },
  {
   "cell_type": "markdown",
   "metadata": {},
   "source": [
    "#### For Logistic Regression, feature expension can improve the accuracy, the most highest accuracy is created under the combination of feature selection and feature expansion"
   ]
  },
  {
   "cell_type": "markdown",
   "metadata": {},
   "source": [
    "## Random Forest"
   ]
  },
  {
   "cell_type": "code",
   "execution_count": 15,
   "metadata": {},
   "outputs": [
    {
     "name": "stdout",
     "output_type": "stream",
     "text": [
      "The original result: \n",
      "RF: 0.908333 (0.078617)\n"
     ]
    }
   ],
   "source": [
    "x = iris.iloc[:,range(0, 4)]\n",
    "y = iris.iloc[:, 4]\n",
    "validation_size = 0.20\n",
    "seed = 1\n",
    "X_train, X_validation, Y_train, Y_validation = model_selection.train_test_split(x, y, test_size=validation_size, random_state=seed)\n",
    "scoring='accuracy'\n",
    "models=[]\n",
    "models.append(('RF',RandomForestClassifier()))\n",
    "results = []\n",
    "names = []\n",
    "print('The original result: ')\n",
    "for name, model in models:\n",
    "    kfold = model_selection.KFold(n_splits=10, random_state=seed)\n",
    "    cv_results = model_selection.cross_val_score(model, X_train, Y_train, cv=kfold, scoring=scoring)\n",
    "    results.append(cv_results)\n",
    "    names.append(name)\n",
    "    msg = \"%s: %f (%f)\" % (name, cv_results.mean(), cv_results.std())\n",
    "    print(msg)"
   ]
  },
  {
   "cell_type": "code",
   "execution_count": 16,
   "metadata": {},
   "outputs": [
    {
     "name": "stdout",
     "output_type": "stream",
     "text": [
      "After feature selection: \n",
      "RF: 0.933333 (0.062361)\n"
     ]
    }
   ],
   "source": [
    "# Feature selection for RF\n",
    "x = iris[['sepal length (cm)','petal length (cm)','petal width (cm)']]\n",
    "y = iris.iloc[:, 4]\n",
    "validation_size = 0.20\n",
    "seed = 1\n",
    "X_train, X_validation, Y_train, Y_validation = model_selection.train_test_split(x, y, test_size=validation_size, random_state=seed)\n",
    "scoring='accuracy'\n",
    "models=[]\n",
    "models.append(('RF',RandomForestClassifier()))\n",
    "results = []\n",
    "names = []\n",
    "print('After feature selection: ')\n",
    "for name, model in models:\n",
    "    kfold = model_selection.KFold(n_splits=10, random_state=seed)\n",
    "    cv_results = model_selection.cross_val_score(model, X_train, Y_train, cv=kfold, scoring=scoring)\n",
    "    results.append(cv_results)\n",
    "    names.append(name)\n",
    "    msg = \"%s: %f (%f)\" % (name, cv_results.mean(), cv_results.std())\n",
    "    print(msg)"
   ]
  },
  {
   "cell_type": "code",
   "execution_count": 17,
   "metadata": {},
   "outputs": [
    {
     "name": "stdout",
     "output_type": "stream",
     "text": [
      "RF: 0.938636 (0.054886)\n"
     ]
    }
   ],
   "source": [
    "# Feature expansion, interaction_only=True\n",
    "x = iris.iloc[:,range(0, 3)]\n",
    "y = iris.iloc[:, 4]\n",
    "X_train, X_validation, Y_train, Y_validation = model_selection.train_test_split(x, y, test_size=validation_size, random_state=seed)\n",
    "validation_size = 0.20\n",
    "seed = 1\n",
    "models=[]\n",
    "models.append(('RF',RandomForestClassifier()))\n",
    "results = []\n",
    "names = []\n",
    "scoring='accuracy'\n",
    "for name, model in models:\n",
    "    kfold = model_selection.KFold(n_splits=10, random_state=seed)\n",
    "    model_inter_true = make_pipeline(PolynomialFeatures(2,interaction_only=True), model)\n",
    "    cv_results = model_selection.cross_val_score(model_inter_true, x_train, y_train, cv=kfold, scoring=scoring)\n",
    "    results.append(cv_results)\n",
    "    names.append(name)\n",
    "    msg = \"%s: %f (%f)\" % (name, cv_results.mean(), cv_results.std())\n",
    "    print(msg)"
   ]
  },
  {
   "cell_type": "code",
   "execution_count": 18,
   "metadata": {},
   "outputs": [
    {
     "name": "stdout",
     "output_type": "stream",
     "text": [
      "RF: 0.941667 (0.065085)\n"
     ]
    }
   ],
   "source": [
    "# Feature Selection  + Feature Expension for RF\n",
    "# interaction_only =  True\n",
    "x = iris[['sepal length (cm)','petal length (cm)','petal width (cm)']]\n",
    "y = iris.iloc[:, 4]\n",
    "X_train, X_validation, Y_train, Y_validation = model_selection.train_test_split(x, y, test_size=validation_size, random_state=seed)\n",
    "models=[]\n",
    "models.append(('RF',RandomForestClassifier()))\n",
    "results = []\n",
    "names = []\n",
    "for name, model in models:\n",
    "    kfold = model_selection.KFold(n_splits=10, random_state=seed)\n",
    "    model_inter_true = make_pipeline(PolynomialFeatures(2,interaction_only=True), model)\n",
    "    cv_results = model_selection.cross_val_score(model_inter_true, X_train, Y_train, cv=kfold, scoring=scoring)\n",
    "    results.append(cv_results)\n",
    "    names.append(name)\n",
    "    msg = \"%s: %f (%f)\" % (name, cv_results.mean(), cv_results.std())\n",
    "    print(msg)"
   ]
  },
  {
   "cell_type": "code",
   "execution_count": 19,
   "metadata": {},
   "outputs": [
    {
     "name": "stdout",
     "output_type": "stream",
     "text": [
      "RF: 0.941667 (0.065085)\n"
     ]
    }
   ],
   "source": [
    "# Feature Selection  + Feature Expension for RF\n",
    "# interaction_only =  False\n",
    "models=[]\n",
    "models.append(('RF',RandomForestClassifier()))\n",
    "results = []\n",
    "names = []\n",
    "for name, model in models:\n",
    "    kfold = model_selection.KFold(n_splits=10, random_state=seed)\n",
    "    model_inter_true = make_pipeline(PolynomialFeatures(2,interaction_only=False), model)\n",
    "    cv_results = model_selection.cross_val_score(model_inter_true, X_train, Y_train, cv=kfold, scoring=scoring)\n",
    "    results.append(cv_results)\n",
    "    names.append(name)\n",
    "    msg = \"%s: %f (%f)\" % (name, cv_results.mean(), cv_results.std())\n",
    "    print(msg)"
   ]
  },
  {
   "cell_type": "markdown",
   "metadata": {},
   "source": [
    "#### For Random Forest, both feature selection and feature expension can improve the accuracy. But after feature selection, we found that the accuracy is high enough, we guess that random forest maybe overfitting after feature expansion"
   ]
  },
  {
   "cell_type": "markdown",
   "metadata": {},
   "source": [
    "## CART"
   ]
  },
  {
   "cell_type": "code",
   "execution_count": 20,
   "metadata": {},
   "outputs": [
    {
     "name": "stdout",
     "output_type": "stream",
     "text": [
      "The original result: \n",
      "DTC: 0.933333 (0.081650)\n"
     ]
    }
   ],
   "source": [
    "x = iris.iloc[:,range(0, 4)]\n",
    "y = iris.iloc[:, 4]\n",
    "validation_size = 0.20\n",
    "seed = 1\n",
    "X_train, X_validation, Y_train, Y_validation = model_selection.train_test_split(x, y, test_size=validation_size, random_state=seed)\n",
    "scoring='accuracy'\n",
    "models=[]\n",
    "models.append(('DTC',DecisionTreeClassifier()))\n",
    "results = []\n",
    "names = []\n",
    "print('The original result: ')\n",
    "for name, model in models:\n",
    "    kfold = model_selection.KFold(n_splits=10, random_state=seed)\n",
    "    cv_results = model_selection.cross_val_score(model, X_train, Y_train, cv=kfold, scoring=scoring)\n",
    "    results.append(cv_results)\n",
    "    names.append(name)\n",
    "    msg = \"%s: %f (%f)\" % (name, cv_results.mean(), cv_results.std())\n",
    "    print(msg)"
   ]
  },
  {
   "cell_type": "code",
   "execution_count": 21,
   "metadata": {},
   "outputs": [
    {
     "name": "stdout",
     "output_type": "stream",
     "text": [
      "After feature selection: \n",
      "DTC: 0.941667 (0.053359)\n"
     ]
    }
   ],
   "source": [
    "# Feature selection for LR\n",
    "x = iris[['sepal length (cm)','petal length (cm)','petal width (cm)']]\n",
    "y = iris.iloc[:, 4]\n",
    "validation_size = 0.20\n",
    "seed = 1\n",
    "X_train, X_validation, Y_train, Y_validation = model_selection.train_test_split(x, y, test_size=validation_size, random_state=seed)\n",
    "scoring='accuracy'\n",
    "models=[]\n",
    "models.append(('DTC',DecisionTreeClassifier()))\n",
    "results = []\n",
    "names = []\n",
    "print('After feature selection: ')\n",
    "for name, model in models:\n",
    "    kfold = model_selection.KFold(n_splits=10, random_state=seed)\n",
    "    cv_results = model_selection.cross_val_score(model, X_train, Y_train, cv=kfold, scoring=scoring)\n",
    "    results.append(cv_results)\n",
    "    names.append(name)\n",
    "    msg = \"%s: %f (%f)\" % (name, cv_results.mean(), cv_results.std())\n",
    "    print(msg)"
   ]
  },
  {
   "cell_type": "code",
   "execution_count": 22,
   "metadata": {},
   "outputs": [
    {
     "name": "stdout",
     "output_type": "stream",
     "text": [
      "DTC: 0.956818 (0.077706)\n"
     ]
    }
   ],
   "source": [
    "# Feature expansion, interaction_only=True\n",
    "x = iris.iloc[:,range(0, 3)]\n",
    "y = iris.iloc[:, 4]\n",
    "X_train, X_validation, Y_train, Y_validation = model_selection.train_test_split(x, y, test_size=validation_size, random_state=seed)\n",
    "validation_size = 0.20\n",
    "seed = 1\n",
    "models=[]\n",
    "models.append(('DTC',DecisionTreeClassifier()))\n",
    "results = []\n",
    "names = []\n",
    "scoring='accuracy'\n",
    "for name, model in models:\n",
    "    kfold = model_selection.KFold(n_splits=10, random_state=seed)\n",
    "    model_inter_true = make_pipeline(PolynomialFeatures(2,interaction_only=True), model)\n",
    "    cv_results = model_selection.cross_val_score(model_inter_true, x_train, y_train, cv=kfold, scoring=scoring)\n",
    "    results.append(cv_results)\n",
    "    names.append(name)\n",
    "    msg = \"%s: %f (%f)\" % (name, cv_results.mean(), cv_results.std())\n",
    "    print(msg)"
   ]
  },
  {
   "cell_type": "code",
   "execution_count": 23,
   "metadata": {},
   "outputs": [
    {
     "name": "stdout",
     "output_type": "stream",
     "text": [
      "DTC: 0.958333 (0.041667)\n"
     ]
    }
   ],
   "source": [
    "# Feature Selection  + Feature Expension for SVM\n",
    "# interaction_only =  True\n",
    "x = iris[['sepal length (cm)','petal length (cm)','petal width (cm)']]\n",
    "y = iris.iloc[:, 4]\n",
    "X_train, X_validation, Y_train, Y_validation = model_selection.train_test_split(x, y, test_size=validation_size, random_state=seed)\n",
    "models=[]\n",
    "models.append(('DTC',DecisionTreeClassifier()))\n",
    "results = []\n",
    "names = []\n",
    "for name, model in models:\n",
    "    kfold = model_selection.KFold(n_splits=10, random_state=seed)\n",
    "    model_inter_true = make_pipeline(PolynomialFeatures(2,interaction_only=True), model)\n",
    "    cv_results = model_selection.cross_val_score(model_inter_true, X_train, Y_train, cv=kfold, scoring=scoring)\n",
    "    results.append(cv_results)\n",
    "    names.append(name)\n",
    "    msg = \"%s: %f (%f)\" % (name, cv_results.mean(), cv_results.std())\n",
    "    print(msg)"
   ]
  },
  {
   "cell_type": "markdown",
   "metadata": {},
   "source": [
    "#### For Decision Tree, both feature selection and feature expension can improve the accuracy. And when we combine the feature selection and feature expansion together, we get the highest accuracy."
   ]
  },
  {
   "cell_type": "markdown",
   "metadata": {},
   "source": [
    "We can see under feature expansion, LogisticRegression performs better. I think the reason is that logistic regression is a little bit complex and suit for dealing with raw data. if the features get expanded, LR may be get overfitting. "
   ]
  },
  {
   "cell_type": "markdown",
   "metadata": {},
   "source": [
    "# 2 Congressional Voting Records"
   ]
  },
  {
   "cell_type": "code",
   "execution_count": 25,
   "metadata": {},
   "outputs": [
    {
     "name": "stdout",
     "output_type": "stream",
     "text": [
      "             0  1  2  3  4  5  6  7  8  9  10 11 12 13 14 15 16\n",
      "0    republican  n  y  n  y  y  y  n  n  n  y  ?  y  y  y  n  y\n",
      "1    republican  n  y  n  y  y  y  n  n  n  n  n  y  y  y  n  ?\n",
      "2      democrat  ?  y  y  ?  y  y  n  n  n  n  y  n  y  y  n  n\n",
      "3      democrat  n  y  y  n  ?  y  n  n  n  n  y  n  y  n  n  y\n",
      "4      democrat  y  y  y  n  y  y  n  n  n  n  y  ?  y  y  y  y\n",
      "5      democrat  n  y  y  n  y  y  n  n  n  n  n  n  y  y  y  y\n",
      "6      democrat  n  y  n  y  y  y  n  n  n  n  n  n  ?  y  y  y\n",
      "7    republican  n  y  n  y  y  y  n  n  n  n  n  n  y  y  ?  y\n",
      "8    republican  n  y  n  y  y  y  n  n  n  n  n  y  y  y  n  y\n",
      "9      democrat  y  y  y  n  n  n  y  y  y  n  n  n  n  n  ?  ?\n",
      "10   republican  n  y  n  y  y  n  n  n  n  n  ?  ?  y  y  n  n\n",
      "11   republican  n  y  n  y  y  y  n  n  n  n  y  ?  y  y  ?  ?\n",
      "12     democrat  n  y  y  n  n  n  y  y  y  n  n  n  y  n  ?  ?\n",
      "13     democrat  y  y  y  n  n  y  y  y  ?  y  y  ?  n  n  y  ?\n",
      "14   republican  n  y  n  y  y  y  n  n  n  n  n  y  ?  ?  n  ?\n",
      "15   republican  n  y  n  y  y  y  n  n  n  y  n  y  y  ?  n  ?\n",
      "16     democrat  y  n  y  n  n  y  n  y  ?  y  y  y  ?  n  n  y\n",
      "17     democrat  y  ?  y  n  n  n  y  y  y  n  n  n  y  n  y  y\n",
      "18   republican  n  y  n  y  y  y  n  n  n  n  n  ?  y  y  n  n\n",
      "19     democrat  y  y  y  n  n  n  y  y  y  n  y  n  n  n  y  y\n",
      "20     democrat  y  y  y  n  n  ?  y  y  n  n  y  n  n  n  y  y\n",
      "21     democrat  y  y  y  n  n  n  y  y  y  n  n  n  ?  ?  y  y\n",
      "22     democrat  y  ?  y  n  n  n  y  y  y  n  n  ?  n  n  y  y\n",
      "23     democrat  y  y  y  n  n  n  y  y  y  n  n  n  n  n  y  y\n",
      "24     democrat  y  n  y  n  n  n  y  y  y  n  n  n  n  n  y  ?\n",
      "25     democrat  y  n  y  n  n  n  y  y  y  y  n  n  n  n  y  y\n",
      "26     democrat  y  n  y  n  n  n  y  y  y  n  y  n  n  n  y  y\n",
      "27     democrat  y  y  y  n  n  n  y  y  y  n  y  n  n  n  y  y\n",
      "28   republican  y  n  n  y  y  n  y  y  y  n  n  y  y  y  n  y\n",
      "29     democrat  y  y  y  n  n  n  y  y  y  n  y  n  n  n  y  y\n",
      "..          ... .. .. .. .. .. .. .. .. .. .. .. .. .. .. .. ..\n",
      "405  republican  n  n  n  y  y  y  n  n  n  n  n  y  y  y  n  y\n",
      "406    democrat  y  n  y  n  y  y  n  n  y  y  n  n  y  y  n  y\n",
      "407    democrat  n  n  n  y  y  y  n  n  n  n  y  y  y  y  n  n\n",
      "408    democrat  y  n  y  n  n  y  y  y  y  n  n  y  ?  y  y  y\n",
      "409  republican  n  n  n  y  y  y  n  n  n  n  n  y  y  y  n  n\n",
      "410  republican  n  n  n  y  y  y  n  n  n  n  y  y  y  y  n  y\n",
      "411    democrat  y  n  y  n  n  y  y  y  y  y  y  n  n  n  n  y\n",
      "412  republican  n  n  n  y  y  y  n  n  n  y  n  y  y  y  n  y\n",
      "413  republican  y  y  y  y  y  y  y  y  n  y  ?  ?  ?  y  n  y\n",
      "414    democrat  y  y  y  n  n  n  y  y  y  n  n  n  n  n  n  y\n",
      "415    democrat  n  y  y  n  n  y  y  y  ?  y  n  n  n  n  n  y\n",
      "416  republican  y  y  n  y  y  y  n  n  n  y  n  n  y  y  n  y\n",
      "417    democrat  y  y  y  n  n  n  y  y  y  y  y  n  y  n  n  y\n",
      "418    democrat  y  y  y  n  n  n  y  y  n  y  n  n  n  n  n  y\n",
      "419    democrat  y  y  y  n  n  n  y  y  y  n  n  n  n  n  n  y\n",
      "420  republican  y  y  y  y  y  y  y  y  n  y  n  n  y  y  n  y\n",
      "421    democrat  n  y  y  n  y  y  y  y  n  n  y  n  y  n  y  y\n",
      "422    democrat  n  n  y  n  n  y  y  y  y  n  y  n  n  n  y  y\n",
      "423    democrat  n  y  y  n  n  y  y  y  y  n  y  n  n  y  y  y\n",
      "424    democrat  n  y  y  n  n  ?  y  y  y  y  y  n  ?  y  y  y\n",
      "425    democrat  n  n  y  n  n  n  y  y  n  y  y  n  n  n  y  ?\n",
      "426    democrat  y  n  y  n  n  n  y  y  y  y  n  n  n  n  y  y\n",
      "427  republican  n  n  n  y  y  y  y  y  n  y  n  y  y  y  n  y\n",
      "428    democrat  ?  ?  ?  n  n  n  y  y  y  y  n  n  y  n  y  y\n",
      "429    democrat  y  n  y  n  ?  n  y  y  y  y  n  y  n  ?  y  y\n",
      "430  republican  n  n  y  y  y  y  n  n  y  y  n  y  y  y  n  y\n",
      "431    democrat  n  n  y  n  n  n  y  y  y  y  n  n  n  n  n  y\n",
      "432  republican  n  ?  n  y  y  y  n  n  n  n  y  y  y  y  n  y\n",
      "433  republican  n  n  n  y  y  y  ?  ?  ?  ?  n  y  y  y  n  y\n",
      "434  republican  n  y  n  y  y  y  n  n  n  y  n  y  y  y  ?  n\n",
      "\n",
      "[435 rows x 17 columns]\n"
     ]
    }
   ],
   "source": [
    "# Load Data\n",
    "path = '/Users/ziyuehan/Downloads/2018Spring/Data Analytics/Assignment/7/'\n",
    "cvr = pd.read_table(path + 'house-votes-84.data.txt', header = None, sep = ',')\n",
    "print(cvr)"
   ]
  },
  {
   "cell_type": "code",
   "execution_count": 31,
   "metadata": {},
   "outputs": [],
   "source": [
    "cvr[0].replace('republican', 0, inplace = True)\n",
    "cvr[0].replace('democrat', 1, inplace = True)\n",
    "cvr.replace('n', 0, inplace = True)\n",
    "cvr.replace('y', 1, inplace = True)\n",
    "cvr.replace('?', 2, inplace = True)"
   ]
  },
  {
   "cell_type": "code",
   "execution_count": 32,
   "metadata": {},
   "outputs": [],
   "source": [
    "y = cvr.iloc[:, 0]\n",
    "x = cvr.iloc[:, range(1,17)]\n",
    "x_train, x_test, y_train, y_test = train_test_split(x, y, random_state=0)"
   ]
  },
  {
   "cell_type": "code",
   "execution_count": 33,
   "metadata": {},
   "outputs": [],
   "source": [
    "def tuningPara_crossValid(model, param_grid):\n",
    "    kfold = KFold(n_splits=5, random_state=0, shuffle=True)\n",
    "    grid_search = GridSearchCV(model, param_grid, cv=kfold)\n",
    "    grid_search.fit(x_train, y_train)\n",
    "    accuracy = grid_search.score(x_test, y_test)\n",
    "    print('Best parameters: {}'.format(grid_search.best_params_))\n",
    "    print('Best cross-validation score:', grid_search.best_score_)\n",
    "    print('The accuracy score is:', accuracy)"
   ]
  },
  {
   "cell_type": "code",
   "execution_count": 34,
   "metadata": {},
   "outputs": [
    {
     "name": "stdout",
     "output_type": "stream",
     "text": [
      "Logistic Regression\n",
      "Best parameters: {'C': 0.1, 'penalty': 'l1'}\n",
      "Best cross-validation score: 0.9263803680981595\n",
      "The accuracy score is: 0.8990825688073395\n"
     ]
    }
   ],
   "source": [
    "# Logistic Regression: parameter tuning & cross validation\n",
    "# tunning parameters\n",
    "print('Logistic Regression')\n",
    "param_grid = {'penalty':['l1', 'l2'], \n",
    "              'C': [0.001, 0.01, 0.1, 1, 10, 100]}\n",
    "\n",
    "tuningPara_crossValid(LogisticRegression(), param_grid)"
   ]
  },
  {
   "cell_type": "code",
   "execution_count": 99,
   "metadata": {},
   "outputs": [
    {
     "name": "stdout",
     "output_type": "stream",
     "text": [
      "Random Forest\n",
      "Best parameters: {'max_depth': 5, 'n_estimators': 5}\n",
      "Best cross-validation score: 0.9386503067484663\n",
      "The accuracy score is: 0.926605504587156\n"
     ]
    }
   ],
   "source": [
    "# Random Forest: parameter tuning & cross validation\n",
    "# tunning parameters \n",
    "# max_feature for classification problem is sqrt(n_features)\n",
    "print('Random Forest')\n",
    "param_grid = {'n_estimators': [2, 3, 4, 5],\n",
    "              'max_depth':[2, 3, 4, 5]}\n",
    "\n",
    "tuningPara_crossValid(RandomForestClassifier(max_features=2, n_jobs=-1), param_grid)"
   ]
  },
  {
   "cell_type": "code",
   "execution_count": 104,
   "metadata": {},
   "outputs": [
    {
     "name": "stdout",
     "output_type": "stream",
     "text": [
      "Decision Tree\n",
      "Best parameters: {'max_depth': 4}\n",
      "Best cross-validation score: 0.9662576687116564\n",
      "The accuracy score is: 0.926605504587156\n"
     ]
    }
   ],
   "source": [
    "# Decision Tree: parameter tuning & cross validation\n",
    "param_grid = {'max_depth':[1, 2, 3, 4, 5]}\n",
    "print('Decision Tree')\n",
    "tuningPara_crossValid(DecisionTreeClassifier(), param_grid)"
   ]
  },
  {
   "cell_type": "code",
   "execution_count": 101,
   "metadata": {},
   "outputs": [
    {
     "data": {
      "text/html": [
       "<div>\n",
       "<style scoped>\n",
       "    .dataframe tbody tr th:only-of-type {\n",
       "        vertical-align: middle;\n",
       "    }\n",
       "\n",
       "    .dataframe tbody tr th {\n",
       "        vertical-align: top;\n",
       "    }\n",
       "\n",
       "    .dataframe thead th {\n",
       "        text-align: right;\n",
       "    }\n",
       "</style>\n",
       "<table border=\"1\" class=\"dataframe\">\n",
       "  <thead>\n",
       "    <tr style=\"text-align: right;\">\n",
       "      <th></th>\n",
       "      <th>Party</th>\n",
       "      <th>handicapped_infants</th>\n",
       "      <th>water_project_cost_sharing</th>\n",
       "      <th>adoption_of_the_budget_resolution</th>\n",
       "      <th>physician_fee_freeze</th>\n",
       "      <th>el_salvador_aid</th>\n",
       "      <th>religious_groups_in_schools</th>\n",
       "      <th>nti_satellite_test_ban</th>\n",
       "      <th>aid_to_nicaraguan_contras</th>\n",
       "      <th>mx_missile</th>\n",
       "      <th>immigration</th>\n",
       "      <th>synfuels_corporation_cutback</th>\n",
       "      <th>education_spending</th>\n",
       "      <th>superfund_right_to_sue</th>\n",
       "      <th>crime</th>\n",
       "      <th>duty_free_exports</th>\n",
       "      <th>export_administration_act_sa</th>\n",
       "    </tr>\n",
       "  </thead>\n",
       "  <tbody>\n",
       "    <tr>\n",
       "      <th>Party</th>\n",
       "      <td>1.000000</td>\n",
       "      <td>0.380395</td>\n",
       "      <td>-0.018560</td>\n",
       "      <td>0.676258</td>\n",
       "      <td>-0.795967</td>\n",
       "      <td>-0.584265</td>\n",
       "      <td>-0.358753</td>\n",
       "      <td>0.448214</td>\n",
       "      <td>0.506271</td>\n",
       "      <td>0.578097</td>\n",
       "      <td>-0.081648</td>\n",
       "      <td>0.283345</td>\n",
       "      <td>-0.536044</td>\n",
       "      <td>-0.443033</td>\n",
       "      <td>-0.538348</td>\n",
       "      <td>0.390387</td>\n",
       "      <td>0.342197</td>\n",
       "    </tr>\n",
       "    <tr>\n",
       "      <th>adoption_of_the_budget_resolution</th>\n",
       "      <td>0.676258</td>\n",
       "      <td>0.403787</td>\n",
       "      <td>0.039210</td>\n",
       "      <td>1.000000</td>\n",
       "      <td>-0.464820</td>\n",
       "      <td>-0.438152</td>\n",
       "      <td>-0.265103</td>\n",
       "      <td>0.473806</td>\n",
       "      <td>0.557397</td>\n",
       "      <td>0.539170</td>\n",
       "      <td>0.061886</td>\n",
       "      <td>0.233233</td>\n",
       "      <td>-0.388872</td>\n",
       "      <td>-0.302286</td>\n",
       "      <td>-0.431608</td>\n",
       "      <td>0.376696</td>\n",
       "      <td>0.378472</td>\n",
       "    </tr>\n",
       "    <tr>\n",
       "      <th>aid_to_nicaraguan_contras</th>\n",
       "      <td>0.506271</td>\n",
       "      <td>0.333097</td>\n",
       "      <td>0.000260</td>\n",
       "      <td>0.557397</td>\n",
       "      <td>-0.438618</td>\n",
       "      <td>-0.537219</td>\n",
       "      <td>-0.336305</td>\n",
       "      <td>0.631455</td>\n",
       "      <td>1.000000</td>\n",
       "      <td>0.604281</td>\n",
       "      <td>0.072276</td>\n",
       "      <td>0.192023</td>\n",
       "      <td>-0.311607</td>\n",
       "      <td>-0.286561</td>\n",
       "      <td>-0.349530</td>\n",
       "      <td>0.456214</td>\n",
       "      <td>0.408703</td>\n",
       "    </tr>\n",
       "    <tr>\n",
       "      <th>mx_missile</th>\n",
       "      <td>0.578097</td>\n",
       "      <td>0.348948</td>\n",
       "      <td>-0.087735</td>\n",
       "      <td>0.539170</td>\n",
       "      <td>-0.521291</td>\n",
       "      <td>-0.575354</td>\n",
       "      <td>-0.404171</td>\n",
       "      <td>0.569680</td>\n",
       "      <td>0.604281</td>\n",
       "      <td>1.000000</td>\n",
       "      <td>0.083258</td>\n",
       "      <td>0.081582</td>\n",
       "      <td>-0.340548</td>\n",
       "      <td>-0.337433</td>\n",
       "      <td>-0.393975</td>\n",
       "      <td>0.390068</td>\n",
       "      <td>0.325532</td>\n",
       "    </tr>\n",
       "  </tbody>\n",
       "</table>\n",
       "</div>"
      ],
      "text/plain": [
       "                                      Party  handicapped_infants  \\\n",
       "Party                              1.000000             0.380395   \n",
       "adoption_of_the_budget_resolution  0.676258             0.403787   \n",
       "aid_to_nicaraguan_contras          0.506271             0.333097   \n",
       "mx_missile                         0.578097             0.348948   \n",
       "\n",
       "                                   water_project_cost_sharing  \\\n",
       "Party                                               -0.018560   \n",
       "adoption_of_the_budget_resolution                    0.039210   \n",
       "aid_to_nicaraguan_contras                            0.000260   \n",
       "mx_missile                                          -0.087735   \n",
       "\n",
       "                                   adoption_of_the_budget_resolution  \\\n",
       "Party                                                       0.676258   \n",
       "adoption_of_the_budget_resolution                           1.000000   \n",
       "aid_to_nicaraguan_contras                                   0.557397   \n",
       "mx_missile                                                  0.539170   \n",
       "\n",
       "                                   physician_fee_freeze  el_salvador_aid  \\\n",
       "Party                                         -0.795967        -0.584265   \n",
       "adoption_of_the_budget_resolution             -0.464820        -0.438152   \n",
       "aid_to_nicaraguan_contras                     -0.438618        -0.537219   \n",
       "mx_missile                                    -0.521291        -0.575354   \n",
       "\n",
       "                                   religious_groups_in_schools  \\\n",
       "Party                                                -0.358753   \n",
       "adoption_of_the_budget_resolution                    -0.265103   \n",
       "aid_to_nicaraguan_contras                            -0.336305   \n",
       "mx_missile                                           -0.404171   \n",
       "\n",
       "                                   nti_satellite_test_ban  \\\n",
       "Party                                            0.448214   \n",
       "adoption_of_the_budget_resolution                0.473806   \n",
       "aid_to_nicaraguan_contras                        0.631455   \n",
       "mx_missile                                       0.569680   \n",
       "\n",
       "                                   aid_to_nicaraguan_contras  mx_missile  \\\n",
       "Party                                               0.506271    0.578097   \n",
       "adoption_of_the_budget_resolution                   0.557397    0.539170   \n",
       "aid_to_nicaraguan_contras                           1.000000    0.604281   \n",
       "mx_missile                                          0.604281    1.000000   \n",
       "\n",
       "                                   immigration  synfuels_corporation_cutback  \\\n",
       "Party                                -0.081648                      0.283345   \n",
       "adoption_of_the_budget_resolution     0.061886                      0.233233   \n",
       "aid_to_nicaraguan_contras             0.072276                      0.192023   \n",
       "mx_missile                            0.083258                      0.081582   \n",
       "\n",
       "                                   education_spending  superfund_right_to_sue  \\\n",
       "Party                                       -0.536044               -0.443033   \n",
       "adoption_of_the_budget_resolution           -0.388872               -0.302286   \n",
       "aid_to_nicaraguan_contras                   -0.311607               -0.286561   \n",
       "mx_missile                                  -0.340548               -0.337433   \n",
       "\n",
       "                                      crime  duty_free_exports  \\\n",
       "Party                             -0.538348           0.390387   \n",
       "adoption_of_the_budget_resolution -0.431608           0.376696   \n",
       "aid_to_nicaraguan_contras         -0.349530           0.456214   \n",
       "mx_missile                        -0.393975           0.390068   \n",
       "\n",
       "                                   export_administration_act_sa  \n",
       "Party                                                  0.342197  \n",
       "adoption_of_the_budget_resolution                      0.378472  \n",
       "aid_to_nicaraguan_contras                              0.408703  \n",
       "mx_missile                                             0.325532  "
      ]
     },
     "execution_count": 101,
     "metadata": {},
     "output_type": "execute_result"
    },
    {
     "data": {
      "image/png": "[encoded data removed]",
      "text/plain": [
       "<matplotlib.figure.Figure at 0x1a1318a470>"
      ]
     },
     "metadata": {},
     "output_type": "display_data"
    }
   ],
   "source": [
    "corrmat = cvr.corr()\n",
    "sns.heatmap(corrmat, vmax = 0.9, square = True)\n",
    "corrmat[corrmat['Party'] > 0.5]"
   ]
  },
  {
   "cell_type": "code",
   "execution_count": 102,
   "metadata": {},
   "outputs": [
    {
     "data": {
      "text/plain": [
       "array([0.35837449, 0.11090405, 0.07716679, 0.05870944, 0.05386458,\n",
       "       0.04872877, 0.04799288, 0.03976888, 0.03650243, 0.03069248,\n",
       "       0.02906423, 0.02561996, 0.02199096, 0.01976975, 0.01865009,\n",
       "       0.01620162, 0.00599861])"
      ]
     },
     "execution_count": 102,
     "metadata": {},
     "output_type": "execute_result"
    }
   ],
   "source": [
    "from sklearn.decomposition import PCA\n",
    "pca = PCA(n_components = None, copy = True, whiten = False)   \n",
    "pca.fit(cvr)\n",
    "pca.components_ \n",
    "pca.explained_variance_ratio_  "
   ]
  },
  {
   "cell_type": "markdown",
   "metadata": {},
   "source": [
    "### Based on the above decomposition analysis, we decide to select 7 features during the feature selection process because the first 7 features account for the majority components of these feature leading to the class."
   ]
  },
  {
   "cell_type": "markdown",
   "metadata": {},
   "source": [
    "## SVM"
   ]
  },
  {
   "cell_type": "code",
   "execution_count": 12,
   "metadata": {},
   "outputs": [
    {
     "name": "stdout",
     "output_type": "stream",
     "text": [
      "The original result: \n",
      "SVM: 0.939496 (0.044543)\n"
     ]
    }
   ],
   "source": [
    "# The original dataframe\n",
    "y = cvr.iloc[:, 0]\n",
    "x = cvr.iloc[:, range(1,17)]\n",
    "validation_size = 0.20\n",
    "seed = 1\n",
    "X_train, X_validation, Y_train, Y_validation = model_selection.train_test_split(x, y, test_size=validation_size, random_state=seed)\n",
    "scoring='accuracy'\n",
    "models=[]\n",
    "models.append(('SVM',LogisticRegression()))\n",
    "results = []\n",
    "names = []\n",
    "print('The original result: ')\n",
    "for name, model in models:\n",
    "    kfold = model_selection.KFold(n_splits=10, random_state=seed)\n",
    "    cv_results = model_selection.cross_val_score(model, X_train, Y_train, cv=kfold, scoring=scoring)\n",
    "    results.append(cv_results)\n",
    "    names.append(name)\n",
    "    msg = \"%s: %f (%f)\" % (name, cv_results.mean(), cv_results.std())\n",
    "    print(msg)"
   ]
  },
  {
   "cell_type": "code",
   "execution_count": 9,
   "metadata": {},
   "outputs": [
    {
     "name": "stdout",
     "output_type": "stream",
     "text": [
      "[False False  True  True False False False False  True  True  True  True\n",
      " False  True False False]\n"
     ]
    }
   ],
   "source": [
    "# Feature selection for SVM\n",
    "y = cvr.iloc[:, 0]\n",
    "x = cvr.iloc[:, range(1,17)]\n",
    "estimator = SVC(kernel=\"linear\")\n",
    "selector = RFE(estimator, 7, step=1)\n",
    "selector = selector.fit(x, y.values.ravel())\n",
    "print(selector.support_)"
   ]
  },
  {
   "cell_type": "code",
   "execution_count": 10,
   "metadata": {},
   "outputs": [
    {
     "data": {
      "text/html": [
       "<div>\n",
       "<style scoped>\n",
       "    .dataframe tbody tr th:only-of-type {\n",
       "        vertical-align: middle;\n",
       "    }\n",
       "\n",
       "    .dataframe tbody tr th {\n",
       "        vertical-align: top;\n",
       "    }\n",
       "\n",
       "    .dataframe thead th {\n",
       "        text-align: right;\n",
       "    }\n",
       "</style>\n",
       "<table border=\"1\" class=\"dataframe\">\n",
       "  <thead>\n",
       "    <tr style=\"text-align: right;\">\n",
       "      <th></th>\n",
       "      <th>Party</th>\n",
       "      <th>handicapped_infants</th>\n",
       "      <th>water_project_cost_sharing</th>\n",
       "      <th>adoption_of_the_budget_resolution</th>\n",
       "      <th>physician_fee_freeze</th>\n",
       "      <th>el_salvador_aid</th>\n",
       "      <th>religious_groups_in_schools</th>\n",
       "      <th>nti_satellite_test_ban</th>\n",
       "      <th>aid_to_nicaraguan_contras</th>\n",
       "      <th>mx_missile</th>\n",
       "      <th>immigration</th>\n",
       "      <th>synfuels_corporation_cutback</th>\n",
       "      <th>education_spending</th>\n",
       "      <th>superfund_right_to_sue</th>\n",
       "      <th>crime</th>\n",
       "      <th>duty_free_exports</th>\n",
       "      <th>export_administration_act_sa</th>\n",
       "    </tr>\n",
       "  </thead>\n",
       "  <tbody>\n",
       "    <tr>\n",
       "      <th>count</th>\n",
       "      <td>435.000000</td>\n",
       "      <td>435.000000</td>\n",
       "      <td>435.000000</td>\n",
       "      <td>435.000000</td>\n",
       "      <td>435.000000</td>\n",
       "      <td>435.000000</td>\n",
       "      <td>435.000000</td>\n",
       "      <td>435.000000</td>\n",
       "      <td>435.000000</td>\n",
       "      <td>435.000000</td>\n",
       "      <td>435.000000</td>\n",
       "      <td>435.000000</td>\n",
       "      <td>435.000000</td>\n",
       "      <td>435.000000</td>\n",
       "      <td>435.000000</td>\n",
       "      <td>435.000000</td>\n",
       "      <td>435.000000</td>\n",
       "    </tr>\n",
       "    <tr>\n",
       "      <th>mean</th>\n",
       "      <td>0.613793</td>\n",
       "      <td>0.485057</td>\n",
       "      <td>0.668966</td>\n",
       "      <td>0.632184</td>\n",
       "      <td>0.457471</td>\n",
       "      <td>0.556322</td>\n",
       "      <td>0.675862</td>\n",
       "      <td>0.613793</td>\n",
       "      <td>0.625287</td>\n",
       "      <td>0.577011</td>\n",
       "      <td>0.528736</td>\n",
       "      <td>0.441379</td>\n",
       "      <td>0.535632</td>\n",
       "      <td>0.595402</td>\n",
       "      <td>0.648276</td>\n",
       "      <td>0.528736</td>\n",
       "      <td>1.096552</td>\n",
       "    </tr>\n",
       "    <tr>\n",
       "      <th>std</th>\n",
       "      <td>0.487440</td>\n",
       "      <td>0.552858</td>\n",
       "      <td>0.665702</td>\n",
       "      <td>0.532686</td>\n",
       "      <td>0.547224</td>\n",
       "      <td>0.562602</td>\n",
       "      <td>0.519874</td>\n",
       "      <td>0.549648</td>\n",
       "      <td>0.551332</td>\n",
       "      <td>0.588230</td>\n",
       "      <td>0.531043</td>\n",
       "      <td>0.586435</td>\n",
       "      <td>0.626227</td>\n",
       "      <td>0.597211</td>\n",
       "      <td>0.553968</td>\n",
       "      <td>0.615452</td>\n",
       "      <td>0.610856</td>\n",
       "    </tr>\n",
       "    <tr>\n",
       "      <th>min</th>\n",
       "      <td>0.000000</td>\n",
       "      <td>0.000000</td>\n",
       "      <td>0.000000</td>\n",
       "      <td>0.000000</td>\n",
       "      <td>0.000000</td>\n",
       "      <td>0.000000</td>\n",
       "      <td>0.000000</td>\n",
       "      <td>0.000000</td>\n",
       "      <td>0.000000</td>\n",
       "      <td>0.000000</td>\n",
       "      <td>0.000000</td>\n",
       "      <td>0.000000</td>\n",
       "      <td>0.000000</td>\n",
       "      <td>0.000000</td>\n",
       "      <td>0.000000</td>\n",
       "      <td>0.000000</td>\n",
       "      <td>0.000000</td>\n",
       "    </tr>\n",
       "    <tr>\n",
       "      <th>25%</th>\n",
       "      <td>0.000000</td>\n",
       "      <td>0.000000</td>\n",
       "      <td>0.000000</td>\n",
       "      <td>0.000000</td>\n",
       "      <td>0.000000</td>\n",
       "      <td>0.000000</td>\n",
       "      <td>0.000000</td>\n",
       "      <td>0.000000</td>\n",
       "      <td>0.000000</td>\n",
       "      <td>0.000000</td>\n",
       "      <td>0.000000</td>\n",
       "      <td>0.000000</td>\n",
       "      <td>0.000000</td>\n",
       "      <td>0.000000</td>\n",
       "      <td>0.000000</td>\n",
       "      <td>0.000000</td>\n",
       "      <td>1.000000</td>\n",
       "    </tr>\n",
       "    <tr>\n",
       "      <th>50%</th>\n",
       "      <td>1.000000</td>\n",
       "      <td>0.000000</td>\n",
       "      <td>1.000000</td>\n",
       "      <td>1.000000</td>\n",
       "      <td>0.000000</td>\n",
       "      <td>1.000000</td>\n",
       "      <td>1.000000</td>\n",
       "      <td>1.000000</td>\n",
       "      <td>1.000000</td>\n",
       "      <td>1.000000</td>\n",
       "      <td>1.000000</td>\n",
       "      <td>0.000000</td>\n",
       "      <td>0.000000</td>\n",
       "      <td>1.000000</td>\n",
       "      <td>1.000000</td>\n",
       "      <td>0.000000</td>\n",
       "      <td>1.000000</td>\n",
       "    </tr>\n",
       "    <tr>\n",
       "      <th>75%</th>\n",
       "      <td>1.000000</td>\n",
       "      <td>1.000000</td>\n",
       "      <td>1.000000</td>\n",
       "      <td>1.000000</td>\n",
       "      <td>1.000000</td>\n",
       "      <td>1.000000</td>\n",
       "      <td>1.000000</td>\n",
       "      <td>1.000000</td>\n",
       "      <td>1.000000</td>\n",
       "      <td>1.000000</td>\n",
       "      <td>1.000000</td>\n",
       "      <td>1.000000</td>\n",
       "      <td>1.000000</td>\n",
       "      <td>1.000000</td>\n",
       "      <td>1.000000</td>\n",
       "      <td>1.000000</td>\n",
       "      <td>1.000000</td>\n",
       "    </tr>\n",
       "    <tr>\n",
       "      <th>max</th>\n",
       "      <td>1.000000</td>\n",
       "      <td>2.000000</td>\n",
       "      <td>2.000000</td>\n",
       "      <td>2.000000</td>\n",
       "      <td>2.000000</td>\n",
       "      <td>2.000000</td>\n",
       "      <td>2.000000</td>\n",
       "      <td>2.000000</td>\n",
       "      <td>2.000000</td>\n",
       "      <td>2.000000</td>\n",
       "      <td>2.000000</td>\n",
       "      <td>2.000000</td>\n",
       "      <td>2.000000</td>\n",
       "      <td>2.000000</td>\n",
       "      <td>2.000000</td>\n",
       "      <td>2.000000</td>\n",
       "      <td>2.000000</td>\n",
       "    </tr>\n",
       "  </tbody>\n",
       "</table>\n",
       "</div>"
      ],
      "text/plain": [
       "            Party  handicapped_infants  water_project_cost_sharing  \\\n",
       "count  435.000000           435.000000                  435.000000   \n",
       "mean     0.613793             0.485057                    0.668966   \n",
       "std      0.487440             0.552858                    0.665702   \n",
       "min      0.000000             0.000000                    0.000000   \n",
       "25%      0.000000             0.000000                    0.000000   \n",
       "50%      1.000000             0.000000                    1.000000   \n",
       "75%      1.000000             1.000000                    1.000000   \n",
       "max      1.000000             2.000000                    2.000000   \n",
       "\n",
       "       adoption_of_the_budget_resolution  physician_fee_freeze  \\\n",
       "count                         435.000000            435.000000   \n",
       "mean                            0.632184              0.457471   \n",
       "std                             0.532686              0.547224   \n",
       "min                             0.000000              0.000000   \n",
       "25%                             0.000000              0.000000   \n",
       "50%                             1.000000              0.000000   \n",
       "75%                             1.000000              1.000000   \n",
       "max                             2.000000              2.000000   \n",
       "\n",
       "       el_salvador_aid  religious_groups_in_schools  nti_satellite_test_ban  \\\n",
       "count       435.000000                   435.000000              435.000000   \n",
       "mean          0.556322                     0.675862                0.613793   \n",
       "std           0.562602                     0.519874                0.549648   \n",
       "min           0.000000                     0.000000                0.000000   \n",
       "25%           0.000000                     0.000000                0.000000   \n",
       "50%           1.000000                     1.000000                1.000000   \n",
       "75%           1.000000                     1.000000                1.000000   \n",
       "max           2.000000                     2.000000                2.000000   \n",
       "\n",
       "       aid_to_nicaraguan_contras  mx_missile  immigration  \\\n",
       "count                 435.000000  435.000000   435.000000   \n",
       "mean                    0.625287    0.577011     0.528736   \n",
       "std                     0.551332    0.588230     0.531043   \n",
       "min                     0.000000    0.000000     0.000000   \n",
       "25%                     0.000000    0.000000     0.000000   \n",
       "50%                     1.000000    1.000000     1.000000   \n",
       "75%                     1.000000    1.000000     1.000000   \n",
       "max                     2.000000    2.000000     2.000000   \n",
       "\n",
       "       synfuels_corporation_cutback  education_spending  \\\n",
       "count                    435.000000          435.000000   \n",
       "mean                       0.441379            0.535632   \n",
       "std                        0.586435            0.626227   \n",
       "min                        0.000000            0.000000   \n",
       "25%                        0.000000            0.000000   \n",
       "50%                        0.000000            0.000000   \n",
       "75%                        1.000000            1.000000   \n",
       "max                        2.000000            2.000000   \n",
       "\n",
       "       superfund_right_to_sue       crime  duty_free_exports  \\\n",
       "count              435.000000  435.000000         435.000000   \n",
       "mean                 0.595402    0.648276           0.528736   \n",
       "std                  0.597211    0.553968           0.615452   \n",
       "min                  0.000000    0.000000           0.000000   \n",
       "25%                  0.000000    0.000000           0.000000   \n",
       "50%                  1.000000    1.000000           0.000000   \n",
       "75%                  1.000000    1.000000           1.000000   \n",
       "max                  2.000000    2.000000           2.000000   \n",
       "\n",
       "       export_administration_act_sa  \n",
       "count                    435.000000  \n",
       "mean                       1.096552  \n",
       "std                        0.610856  \n",
       "min                        0.000000  \n",
       "25%                        1.000000  \n",
       "50%                        1.000000  \n",
       "75%                        1.000000  \n",
       "max                        2.000000  "
      ]
     },
     "execution_count": 10,
     "metadata": {},
     "output_type": "execute_result"
    }
   ],
   "source": [
    "cvr.describe()"
   ]
  },
  {
   "cell_type": "code",
   "execution_count": 11,
   "metadata": {},
   "outputs": [
    {
     "name": "stdout",
     "output_type": "stream",
     "text": [
      "After feature selection: \n",
      "SVM: 0.899412 (0.037017)\n"
     ]
    }
   ],
   "source": [
    "# Feature Selection for SVM\n",
    "x = x[['water_project_cost_sharing','adoption_of_the_budget_resolution','aid_to_nicaraguan_contras','mx_missile','immigration','synfuels_corporation_cutback']]\n",
    "y = cvr.iloc[:, 0]\n",
    "validation_size = 0.20\n",
    "seed = 1\n",
    "X_train, X_validation, Y_train, Y_validation = model_selection.train_test_split(x, y, test_size=validation_size, random_state=seed)\n",
    "scoring='accuracy'\n",
    "models=[]\n",
    "models.append(('SVM',SVC()))\n",
    "results = []\n",
    "names = []\n",
    "print('After feature selection: ')\n",
    "for name, model in models:\n",
    "    kfold = model_selection.KFold(n_splits=10, random_state=seed)\n",
    "    cv_results = model_selection.cross_val_score(model, X_train, Y_train, cv=kfold, scoring=scoring)\n",
    "    results.append(cv_results)\n",
    "    names.append(name)\n",
    "    msg = \"%s: %f (%f)\" % (name, cv_results.mean(), cv_results.std())\n",
    "    print(msg)"
   ]
  },
  {
   "cell_type": "code",
   "execution_count": 161,
   "metadata": {},
   "outputs": [
    {
     "name": "stdout",
     "output_type": "stream",
     "text": [
      "SVM: 0.920455 (0.047545)\n"
     ]
    }
   ],
   "source": [
    "# Feature expansion, interaction_only=True\n",
    "y = cvr.iloc[:, 0]\n",
    "x = cvr.iloc[:, range(1,17)]\n",
    "X_train, X_validation, Y_train, Y_validation = model_selection.train_test_split(x, y, test_size=validation_size, random_state=seed)\n",
    "validation_size = 0.20\n",
    "seed = 1\n",
    "models=[]\n",
    "models.append(('SVM',SVC()))\n",
    "results = []\n",
    "names = []\n",
    "scoring='accuracy'\n",
    "for name, model in models:\n",
    "    kfold = model_selection.KFold(n_splits=10, random_state=seed)\n",
    "    model_inter_true = make_pipeline(PolynomialFeatures(2,interaction_only=True), model)\n",
    "    cv_results = model_selection.cross_val_score(model_inter_true, x_train, y_train, cv=kfold, scoring=scoring)\n",
    "    results.append(cv_results)\n",
    "    names.append(name)\n",
    "    msg = \"%s: %f (%f)\" % (name, cv_results.mean(), cv_results.std())\n",
    "    print(msg)"
   ]
  },
  {
   "cell_type": "code",
   "execution_count": 162,
   "metadata": {},
   "outputs": [
    {
     "name": "stdout",
     "output_type": "stream",
     "text": [
      "SVM: 0.951008 (0.038979)\n"
     ]
    }
   ],
   "source": [
    "# Feature Selection  + Feature Expension for SVM\n",
    "# interaction_only =  True\n",
    "y = cvr.iloc[:, 0]\n",
    "x = cvr.iloc[:, range(1,17)]\n",
    "x = x[[3, 4, 9, 10, 11, 12, 14]]\n",
    "X_train, X_validation, Y_train, Y_validation = model_selection.train_test_split(x, y, test_size=validation_size, random_state=seed)\n",
    "models=[]\n",
    "models.append(('SVM',SVC()))\n",
    "results = []\n",
    "names = []\n",
    "for name, model in models:\n",
    "    kfold = model_selection.KFold(n_splits=10, random_state=seed)\n",
    "    model_inter_true = make_pipeline(PolynomialFeatures(2,interaction_only=True), model)\n",
    "    cv_results = model_selection.cross_val_score(model_inter_true, X_train, Y_train, cv=kfold, scoring=scoring)\n",
    "    results.append(cv_results)\n",
    "    names.append(name)\n",
    "    msg = \"%s: %f (%f)\" % (name, cv_results.mean(), cv_results.std())\n",
    "    print(msg)"
   ]
  },
  {
   "cell_type": "code",
   "execution_count": 163,
   "metadata": {},
   "outputs": [
    {
     "name": "stdout",
     "output_type": "stream",
     "text": [
      "SVM: 0.945294 (0.035403)\n"
     ]
    }
   ],
   "source": [
    "# Feature Selection  + Feature Expension for SVM\n",
    "# interaction_only =  False\n",
    "models=[]\n",
    "models.append(('SVM',SVC()))\n",
    "results = []\n",
    "names = []\n",
    "for name, model in models:\n",
    "    kfold = model_selection.KFold(n_splits=10, random_state=seed)\n",
    "    model_inter_true = make_pipeline(PolynomialFeatures(2,interaction_only=False), model)\n",
    "    cv_results = model_selection.cross_val_score(model_inter_true, X_train, Y_train, cv=kfold, scoring=scoring)\n",
    "    results.append(cv_results)\n",
    "    names.append(name)\n",
    "    msg = \"%s: %f (%f)\" % (name, cv_results.mean(), cv_results.std())\n",
    "    print(msg)"
   ]
  },
  {
   "cell_type": "markdown",
   "metadata": {},
   "source": [
    "### For SVM, Feature selection can imporve the accuracy, but feature expension fails."
   ]
  },
  {
   "cell_type": "markdown",
   "metadata": {},
   "source": [
    "## Random Forest"
   ]
  },
  {
   "cell_type": "code",
   "execution_count": 169,
   "metadata": {},
   "outputs": [
    {
     "name": "stdout",
     "output_type": "stream",
     "text": [
      "The original result: \n",
      "RF: 0.962605 (0.029147)\n"
     ]
    }
   ],
   "source": [
    "y = cvr.iloc[:, 0]\n",
    "x = cvr.iloc[:, range(1,17)]\n",
    "validation_size = 0.20\n",
    "seed = 1\n",
    "X_train, X_validation, Y_train, Y_validation = model_selection.train_test_split(x, y, test_size=validation_size, random_state=seed)\n",
    "scoring='accuracy'\n",
    "models=[]\n",
    "models.append(('RF',RandomForestClassifier()))\n",
    "results = []\n",
    "names = []\n",
    "print('The original result: ')\n",
    "for name, model in models:\n",
    "    kfold = model_selection.KFold(n_splits=10, random_state=seed)\n",
    "    cv_results = model_selection.cross_val_score(model, X_train, Y_train, cv=kfold, scoring=scoring)\n",
    "    results.append(cv_results)\n",
    "    names.append(name)\n",
    "    msg = \"%s: %f (%f)\" % (name, cv_results.mean(), cv_results.std())\n",
    "    print(msg)"
   ]
  },
  {
   "cell_type": "code",
   "execution_count": 167,
   "metadata": {},
   "outputs": [
    {
     "name": "stdout",
     "output_type": "stream",
     "text": [
      "[False False  True  True  True False False False False False  True  True\n",
      "  True  True False False]\n"
     ]
    }
   ],
   "source": [
    "# Feature selection for RF\n",
    "y = cvr.iloc[:, 0]\n",
    "x = cvr.iloc[:, range(1,17)]\n",
    "estimator = RandomForestClassifier()\n",
    "selector = RFE(estimator, 7, step=1)\n",
    "selector = selector.fit(x, y.values.ravel())\n",
    "print(selector.support_)"
   ]
  },
  {
   "cell_type": "code",
   "execution_count": 170,
   "metadata": {},
   "outputs": [
    {
     "name": "stdout",
     "output_type": "stream",
     "text": [
      "After feature selection\n",
      "RF: 0.956975 (0.032023)\n"
     ]
    }
   ],
   "source": [
    "# Feature Selection\n",
    "x = x[[3, 4, 5, 11, 12, 13, 14]]\n",
    "y = cvr.iloc[:, 0]\n",
    "validation_size = 0.20\n",
    "seed = 1\n",
    "X_train, X_validation, Y_train, Y_validation = model_selection.train_test_split(x, y, test_size=validation_size, random_state=seed)\n",
    "scoring='accuracy'\n",
    "models=[]\n",
    "models.append(('RF',RandomForestClassifier()))\n",
    "results = []\n",
    "names = []\n",
    "print('After feature selection')\n",
    "for name, model in models:\n",
    "    kfold = model_selection.KFold(n_splits=10, random_state=seed)\n",
    "    cv_results = model_selection.cross_val_score(model, X_train, Y_train, cv=kfold, scoring=scoring)\n",
    "    results.append(cv_results)\n",
    "    names.append(name)\n",
    "    msg = \"%s: %f (%f)\" % (name, cv_results.mean(), cv_results.std())\n",
    "    print(msg)"
   ]
  },
  {
   "cell_type": "code",
   "execution_count": 171,
   "metadata": {},
   "outputs": [
    {
     "name": "stdout",
     "output_type": "stream",
     "text": [
      "RF: 0.953977 (0.031525)\n"
     ]
    }
   ],
   "source": [
    "# Feature expension\n",
    "y = cvr.iloc[:, 0]\n",
    "x = cvr.iloc[:, range(1,17)]\n",
    "X_train, X_validation, Y_train, Y_validation = model_selection.train_test_split(x, y, test_size=validation_size, random_state=seed)\n",
    "validation_size = 0.20\n",
    "seed = 1\n",
    "models=[]\n",
    "models.append(('RF',RandomForestClassifier()))\n",
    "results = []\n",
    "names = []\n",
    "scoring='accuracy'\n",
    "for name, model in models:\n",
    "    kfold = model_selection.KFold(n_splits=10, random_state=seed)\n",
    "    model_inter_true = make_pipeline(PolynomialFeatures(2,interaction_only=True), model)\n",
    "    cv_results = model_selection.cross_val_score(model_inter_true, x_train, y_train, cv=kfold, scoring=scoring)\n",
    "    results.append(cv_results)\n",
    "    names.append(name)\n",
    "    msg = \"%s: %f (%f)\" % (name, cv_results.mean(), cv_results.std())\n",
    "    print(msg)"
   ]
  },
  {
   "cell_type": "code",
   "execution_count": 172,
   "metadata": {},
   "outputs": [
    {
     "name": "stdout",
     "output_type": "stream",
     "text": [
      "RF: 0.959748 (0.029540)\n"
     ]
    }
   ],
   "source": [
    "# Feature expension + feature selection\n",
    "# interaction_only =  True\n",
    "y = cvr.iloc[:, 0]\n",
    "x = cvr.iloc[:, range(1,17)]\n",
    "x = x[[3, 4, 5, 11, 12, 13, 14]]\n",
    "X_train, X_validation, Y_train, Y_validation = model_selection.train_test_split(x, y, test_size=validation_size, random_state=seed)\n",
    "models=[]\n",
    "models.append(('RF',RandomForestClassifier()))\n",
    "results = []\n",
    "names = []\n",
    "for name, model in models:\n",
    "    kfold = model_selection.KFold(n_splits=10, random_state=seed)\n",
    "    model_inter_true = make_pipeline(PolynomialFeatures(2,interaction_only=True), model)\n",
    "    cv_results = model_selection.cross_val_score(model_inter_true, X_train, Y_train, cv=kfold, scoring=scoring)\n",
    "    results.append(cv_results)\n",
    "    names.append(name)\n",
    "    msg = \"%s: %f (%f)\" % (name, cv_results.mean(), cv_results.std())\n",
    "    print(msg)"
   ]
  },
  {
   "cell_type": "code",
   "execution_count": 173,
   "metadata": {},
   "outputs": [
    {
     "name": "stdout",
     "output_type": "stream",
     "text": [
      "RF: 0.956891 (0.037002)\n"
     ]
    }
   ],
   "source": [
    "# interaction_only = False\n",
    "models=[]\n",
    "models.append(('RF',RandomForestClassifier()))\n",
    "results = []\n",
    "names = []\n",
    "for name, model in models:\n",
    "    kfold = model_selection.KFold(n_splits=10, random_state=seed)\n",
    "    model_inter_true = make_pipeline(PolynomialFeatures(2,interaction_only=False), model)\n",
    "    cv_results = model_selection.cross_val_score(model_inter_true, X_train, Y_train, cv=kfold, scoring=scoring)\n",
    "    results.append(cv_results)\n",
    "    names.append(name)\n",
    "    msg = \"%s: %f (%f)\" % (name, cv_results.mean(), cv_results.std())\n",
    "    print(msg)"
   ]
  },
  {
   "cell_type": "markdown",
   "metadata": {},
   "source": [
    "### For random forest, both feature selection and feature expansion fail to improve the accuracy."
   ]
  },
  {
   "cell_type": "markdown",
   "metadata": {},
   "source": [
    "## CART"
   ]
  },
  {
   "cell_type": "code",
   "execution_count": 174,
   "metadata": {},
   "outputs": [
    {
     "name": "stdout",
     "output_type": "stream",
     "text": [
      "The original result: \n",
      "CART: 0.951092 (0.036473)\n"
     ]
    }
   ],
   "source": [
    "y = cvr.iloc[:, 0]\n",
    "x = cvr.iloc[:, range(1,17)]\n",
    "validation_size = 0.20\n",
    "seed = 1\n",
    "X_train, X_validation, Y_train, Y_validation = model_selection.train_test_split(x, y, test_size=validation_size, random_state=seed)\n",
    "scoring='accuracy'\n",
    "models=[]\n",
    "models.append(('CART',DecisionTreeClassifier()))\n",
    "results = []\n",
    "names = []\n",
    "print('The original result: ')\n",
    "for name, model in models:\n",
    "    kfold = model_selection.KFold(n_splits=10, random_state=seed)\n",
    "    cv_results = model_selection.cross_val_score(model, X_train, Y_train, cv=kfold, scoring=scoring)\n",
    "    results.append(cv_results)\n",
    "    names.append(name)\n",
    "    msg = \"%s: %f (%f)\" % (name, cv_results.mean(), cv_results.std())\n",
    "    print(msg)"
   ]
  },
  {
   "cell_type": "code",
   "execution_count": 175,
   "metadata": {},
   "outputs": [
    {
     "name": "stdout",
     "output_type": "stream",
     "text": [
      "[False False  True  True False False  True False  True False  True  True\n",
      " False False False  True]\n"
     ]
    }
   ],
   "source": [
    "# Feature selection\n",
    "estimator = DecisionTreeClassifier()\n",
    "selector = RFE(estimator, 7, step=1)\n",
    "selector = selector.fit(x, y.values.ravel())\n",
    "print(selector.support_)"
   ]
  },
  {
   "cell_type": "code",
   "execution_count": 176,
   "metadata": {},
   "outputs": [
    {
     "name": "stdout",
     "output_type": "stream",
     "text": [
      "After feature selection\n",
      "CART: 0.956891 (0.026393)\n"
     ]
    }
   ],
   "source": [
    "# Feature Selection\n",
    "y = cvr.iloc[:, 0]\n",
    "x = cvr.iloc[:, range(1,17)]\n",
    "x = x[[3, 4, 7, 9, 11, 12, 16]]\n",
    "y = cvr.iloc[:, 0]\n",
    "validation_size = 0.20\n",
    "seed = 1\n",
    "X_train, X_validation, Y_train, Y_validation = model_selection.train_test_split(x, y, test_size=validation_size, random_state=seed)\n",
    "scoring='accuracy'\n",
    "models=[]\n",
    "models.append(('CART',DecisionTreeClassifier()))\n",
    "results = []\n",
    "names = []\n",
    "print('After feature selection')\n",
    "for name, model in models:\n",
    "    kfold = model_selection.KFold(n_splits=10, random_state=seed)\n",
    "    cv_results = model_selection.cross_val_score(model, X_train, Y_train, cv=kfold, scoring=scoring)\n",
    "    results.append(cv_results)\n",
    "    names.append(name)\n",
    "    msg = \"%s: %f (%f)\" % (name, cv_results.mean(), cv_results.std())\n",
    "    print(msg)"
   ]
  },
  {
   "cell_type": "code",
   "execution_count": 177,
   "metadata": {},
   "outputs": [
    {
     "name": "stdout",
     "output_type": "stream",
     "text": [
      "CART: 0.932386 (0.043388)\n"
     ]
    }
   ],
   "source": [
    "# Feature expension\n",
    "y = cvr.iloc[:, 0]\n",
    "x = cvr.iloc[:, range(1,17)]\n",
    "X_train, X_validation, Y_train, Y_validation = model_selection.train_test_split(x, y, test_size=validation_size, random_state=seed)\n",
    "validation_size = 0.20\n",
    "seed = 1\n",
    "models=[]\n",
    "models.append(('CART',DecisionTreeClassifier()))\n",
    "results = []\n",
    "names = []\n",
    "scoring='accuracy'\n",
    "for name, model in models:\n",
    "    kfold = model_selection.KFold(n_splits=10, random_state=seed)\n",
    "    model_inter_true = make_pipeline(PolynomialFeatures(2,interaction_only=True), model)\n",
    "    cv_results = model_selection.cross_val_score(model_inter_true, x_train, y_train, cv=kfold, scoring=scoring)\n",
    "    results.append(cv_results)\n",
    "    names.append(name)\n",
    "    msg = \"%s: %f (%f)\" % (name, cv_results.mean(), cv_results.std())\n",
    "    print(msg)"
   ]
  },
  {
   "cell_type": "code",
   "execution_count": 178,
   "metadata": {},
   "outputs": [
    {
     "name": "stdout",
     "output_type": "stream",
     "text": [
      "CART: 0.951092 (0.036473)\n"
     ]
    }
   ],
   "source": [
    "# Feature expension + feature selection\n",
    "# interaction_only =  True\n",
    "y = cvr.iloc[:, 0]\n",
    "x = cvr.iloc[:, range(1,17)]\n",
    "x = x[[3, 4, 7, 9, 11, 12, 16]]\n",
    "X_train, X_validation, Y_train, Y_validation = model_selection.train_test_split(x, y, test_size=validation_size, random_state=seed)\n",
    "models=[]\n",
    "models.append(('CART',DecisionTreeClassifier()))\n",
    "results = []\n",
    "names = []\n",
    "for name, model in models:\n",
    "    kfold = model_selection.KFold(n_splits=10, random_state=seed)\n",
    "    model_inter_true = make_pipeline(PolynomialFeatures(2,interaction_only=True), model)\n",
    "    cv_results = model_selection.cross_val_score(model_inter_true, X_train, Y_train, cv=kfold, scoring=scoring)\n",
    "    results.append(cv_results)\n",
    "    names.append(name)\n",
    "    msg = \"%s: %f (%f)\" % (name, cv_results.mean(), cv_results.std())\n",
    "    print(msg)"
   ]
  },
  {
   "cell_type": "code",
   "execution_count": 179,
   "metadata": {},
   "outputs": [
    {
     "name": "stdout",
     "output_type": "stream",
     "text": [
      "CART: 0.959664 (0.034601)\n"
     ]
    }
   ],
   "source": [
    "# interaction_only =  False\n",
    "y = cvr.iloc[:, 0]\n",
    "x = cvr.iloc[:, range(1,17)]\n",
    "x = x[[3, 4, 7, 9, 11, 12, 16]]\n",
    "X_train, X_validation, Y_train, Y_validation = model_selection.train_test_split(x, y, test_size=validation_size, random_state=seed)\n",
    "models=[]\n",
    "models.append(('CART',DecisionTreeClassifier()))\n",
    "results = []\n",
    "names = []\n",
    "for name, model in models:\n",
    "    kfold = model_selection.KFold(n_splits=10, random_state=seed)\n",
    "    model_inter_true = make_pipeline(PolynomialFeatures(2,interaction_only=False), model)\n",
    "    cv_results = model_selection.cross_val_score(model_inter_true, X_train, Y_train, cv=kfold, scoring=scoring)\n",
    "    results.append(cv_results)\n",
    "    names.append(name)\n",
    "    msg = \"%s: %f (%f)\" % (name, cv_results.mean(), cv_results.std())\n",
    "    print(msg)"
   ]
  },
  {
   "cell_type": "markdown",
   "metadata": {},
   "source": [
    "### For CART, feature selection can better the accuracy, while feature expansion cannot."
   ]
  },
  {
   "cell_type": "markdown",
   "metadata": {},
   "source": [
    "# Summary"
   ]
  },
  {
   "cell_type": "markdown",
   "metadata": {},
   "source": [
    "For iris dataset, the best model out of three is LogisticRegression(0.96667 std(0.055277)) with feature selection and feature expansion."
   ]
  },
  {
   "cell_type": "markdown",
   "metadata": {},
   "source": [
    "For Congressional Voting dataset, the best accuracy is given by Random forest : 0.962605 std(0.029147) without feature selection and feature expansion"
   ]
  },
  {
   "cell_type": "markdown",
   "metadata": {},
   "source": [
    "## Effect of Feature Selection and Feature Expansion"
   ]
  },
  {
   "cell_type": "markdown",
   "metadata": {},
   "source": [
    "When features are very few, feature selection may decrease the accuracy even if the features are highly correlated with a selected feature. Feature selection helps to find the key features when features are too many.\n",
    "Feature expansion is suitable for simpler models (e.g., decision tree); the expanded features provide more information for the simpler model to generate better accuracy. \n",
    "Expanded features provides more information to train the simpler models, resulting in higher accuracy. Feature expansion is not suitable for complex models (e.g., LR); since expanded features are not raw, they may cause overfitting to the complex models."
   ]
  },
  {
   "cell_type": "code",
   "execution_count": null,
   "metadata": {},
   "outputs": [],
   "source": []
  }
 ],
 "metadata": {
  "kernelspec": {
   "display_name": "Python 3",
   "language": "python",
   "name": "python3"
  },
  "language_info": {
   "codemirror_mode": {
    "name": "ipython",
    "version": 3
   },
   "file_extension": ".py",
   "mimetype": "text/x-python",
   "name": "python",
   "nbconvert_exporter": "python",
   "pygments_lexer": "ipython3",
   "version": "3.6.4"
  }
 },
 "nbformat": 4,
 "nbformat_minor": 2
}
