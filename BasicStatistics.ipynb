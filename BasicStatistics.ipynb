{
 "cells": [
  {
   "cell_type": "code",
   "execution_count": 2,
   "metadata": {
    "collapsed": true
   },
   "outputs": [],
   "source": [
    "import matplotlib.pyplot as plt # https://matplotlib.org/api/pyplot_summary.html\n",
    "import numpy as np # https://docs.scipy.org/doc/numpy/reference/\n",
    "import pandas as pd # https://pandas.pydata.org/pandas-docs/stable/\n",
    "import scipy.special as spec # https://docs.scipy.org/doc/scipy/reference/special.html\n",
    "import scipy.stats as st # https://docs.scipy.org/doc/scipy/reference/stats.html\n",
    "import seaborn as sns # https://seaborn.pydata.org/api.html\n",
    "%matplotlib inline"
   ]
  },
  {
   "cell_type": "code",
   "execution_count": 5,
   "metadata": {
    "scrolled": true
   },
   "outputs": [
    {
     "data": {
      "text/html": [
       "<div>\n",
       "<style>\n",
       "    .dataframe thead tr:only-child th {\n",
       "        text-align: right;\n",
       "    }\n",
       "\n",
       "    .dataframe thead th {\n",
       "        text-align: left;\n",
       "    }\n",
       "\n",
       "    .dataframe tbody tr th {\n",
       "        vertical-align: top;\n",
       "    }\n",
       "</style>\n",
       "<table border=\"1\" class=\"dataframe\">\n",
       "  <thead>\n",
       "    <tr style=\"text-align: right;\">\n",
       "      <th></th>\n",
       "      <th>spend</th>\n",
       "      <th>apret</th>\n",
       "      <th>top10</th>\n",
       "      <th>rejr</th>\n",
       "      <th>tstsc</th>\n",
       "      <th>pacc</th>\n",
       "      <th>strat</th>\n",
       "      <th>salar</th>\n",
       "    </tr>\n",
       "  </thead>\n",
       "  <tbody>\n",
       "    <tr>\n",
       "      <th>0</th>\n",
       "      <td>9855</td>\n",
       "      <td>52.50</td>\n",
       "      <td>15</td>\n",
       "      <td>29.474</td>\n",
       "      <td>65.063</td>\n",
       "      <td>36.887</td>\n",
       "      <td>12.0</td>\n",
       "      <td>60800</td>\n",
       "    </tr>\n",
       "    <tr>\n",
       "      <th>1</th>\n",
       "      <td>10527</td>\n",
       "      <td>64.25</td>\n",
       "      <td>36</td>\n",
       "      <td>22.309</td>\n",
       "      <td>71.063</td>\n",
       "      <td>30.970</td>\n",
       "      <td>12.8</td>\n",
       "      <td>63900</td>\n",
       "    </tr>\n",
       "    <tr>\n",
       "      <th>2</th>\n",
       "      <td>7904</td>\n",
       "      <td>37.75</td>\n",
       "      <td>26</td>\n",
       "      <td>25.853</td>\n",
       "      <td>60.750</td>\n",
       "      <td>41.985</td>\n",
       "      <td>20.3</td>\n",
       "      <td>57800</td>\n",
       "    </tr>\n",
       "    <tr>\n",
       "      <th>3</th>\n",
       "      <td>6601</td>\n",
       "      <td>57.00</td>\n",
       "      <td>23</td>\n",
       "      <td>11.296</td>\n",
       "      <td>67.188</td>\n",
       "      <td>40.289</td>\n",
       "      <td>17.0</td>\n",
       "      <td>51200</td>\n",
       "    </tr>\n",
       "    <tr>\n",
       "      <th>4</th>\n",
       "      <td>7251</td>\n",
       "      <td>62.00</td>\n",
       "      <td>17</td>\n",
       "      <td>22.635</td>\n",
       "      <td>56.250</td>\n",
       "      <td>46.780</td>\n",
       "      <td>18.1</td>\n",
       "      <td>48000</td>\n",
       "    </tr>\n",
       "  </tbody>\n",
       "</table>\n",
       "</div>"
      ],
      "text/plain": [
       "   spend  apret  top10    rejr   tstsc    pacc  strat  salar\n",
       "0   9855  52.50     15  29.474  65.063  36.887   12.0  60800\n",
       "1  10527  64.25     36  22.309  71.063  30.970   12.8  63900\n",
       "2   7904  37.75     26  25.853  60.750  41.985   20.3  57800\n",
       "3   6601  57.00     23  11.296  67.188  40.289   17.0  51200\n",
       "4   7251  62.00     17  22.635  56.250  46.780   18.1  48000"
      ]
     },
     "execution_count": 5,
     "metadata": {},
     "output_type": "execute_result"
    }
   ],
   "source": [
    "retention = pd.read_csv('Retention.csv')\n",
    "retention.head()"
   ]
  },
  {
   "cell_type": "markdown",
   "metadata": {},
   "source": [
    "# a. Generate descriptive statistics and plot histograms for the following three columns: apret, tstsc, and salar."
   ]
  },
  {
   "cell_type": "code",
   "execution_count": 99,
   "metadata": {},
   "outputs": [
    {
     "name": "stdout",
     "output_type": "stream",
     "text": [
      "The descriptive statistics of the following three columns: apret, tstsc, and salar\n"
     ]
    },
    {
     "data": {
      "text/html": [
       "<div>\n",
       "<style>\n",
       "    .dataframe thead tr:only-child th {\n",
       "        text-align: right;\n",
       "    }\n",
       "\n",
       "    .dataframe thead th {\n",
       "        text-align: left;\n",
       "    }\n",
       "\n",
       "    .dataframe tbody tr th {\n",
       "        vertical-align: top;\n",
       "    }\n",
       "</style>\n",
       "<table border=\"1\" class=\"dataframe\">\n",
       "  <thead>\n",
       "    <tr style=\"text-align: right;\">\n",
       "      <th></th>\n",
       "      <th>apret</th>\n",
       "      <th>salar</th>\n",
       "      <th>tstsc</th>\n",
       "    </tr>\n",
       "  </thead>\n",
       "  <tbody>\n",
       "    <tr>\n",
       "      <th>count</th>\n",
       "      <td>170.000000</td>\n",
       "      <td>170.000000</td>\n",
       "      <td>170.000000</td>\n",
       "    </tr>\n",
       "    <tr>\n",
       "      <th>mean</th>\n",
       "      <td>56.721076</td>\n",
       "      <td>61357.647059</td>\n",
       "      <td>66.164165</td>\n",
       "    </tr>\n",
       "    <tr>\n",
       "      <th>std</th>\n",
       "      <td>18.077097</td>\n",
       "      <td>9802.786457</td>\n",
       "      <td>6.975306</td>\n",
       "    </tr>\n",
       "    <tr>\n",
       "      <th>min</th>\n",
       "      <td>18.750000</td>\n",
       "      <td>38640.000000</td>\n",
       "      <td>48.125000</td>\n",
       "    </tr>\n",
       "    <tr>\n",
       "      <th>25%</th>\n",
       "      <td>45.374750</td>\n",
       "      <td>54650.000000</td>\n",
       "      <td>61.111000</td>\n",
       "    </tr>\n",
       "    <tr>\n",
       "      <th>50%</th>\n",
       "      <td>55.708500</td>\n",
       "      <td>61150.000000</td>\n",
       "      <td>64.781500</td>\n",
       "    </tr>\n",
       "    <tr>\n",
       "      <th>75%</th>\n",
       "      <td>68.687500</td>\n",
       "      <td>67100.000000</td>\n",
       "      <td>70.453250</td>\n",
       "    </tr>\n",
       "    <tr>\n",
       "      <th>max</th>\n",
       "      <td>95.250000</td>\n",
       "      <td>87900.000000</td>\n",
       "      <td>87.500000</td>\n",
       "    </tr>\n",
       "  </tbody>\n",
       "</table>\n",
       "</div>"
      ],
      "text/plain": [
       "            apret         salar       tstsc\n",
       "count  170.000000    170.000000  170.000000\n",
       "mean    56.721076  61357.647059   66.164165\n",
       "std     18.077097   9802.786457    6.975306\n",
       "min     18.750000  38640.000000   48.125000\n",
       "25%     45.374750  54650.000000   61.111000\n",
       "50%     55.708500  61150.000000   64.781500\n",
       "75%     68.687500  67100.000000   70.453250\n",
       "max     95.250000  87900.000000   87.500000"
      ]
     },
     "execution_count": 99,
     "metadata": {},
     "output_type": "execute_result"
    }
   ],
   "source": [
    "print('The descriptive statistics of the following three columns: apret, tstsc, and salar')\n",
    "desc_retention = pd.DataFrame({ 'apret': retention.apret,\n",
    "                                'tstsc': retention.tstsc,\n",
    "                                'salar': retention.salar })\n",
    "desc_retention.describe(include='all')"
   ]
  },
  {
   "cell_type": "code",
   "execution_count": 53,
   "metadata": {},
   "outputs": [
    {
     "name": "stdout",
     "output_type": "stream",
     "text": [
      "Plot histograms for the following three columns\n"
     ]
    },
    {
     "data": {
      "image/png": "[encoded data removed]",
      "text/plain": [
       "<matplotlib.figure.Figure at 0x1a1e0d94a8>"
      ]
     },
     "metadata": {},
     "output_type": "display_data"
    },
    {
     "data": {
      "image/png": "[encoded data removed]",
      "text/plain": [
       "<matplotlib.figure.Figure at 0x1a1e1c8e10>"
      ]
     },
     "metadata": {},
     "output_type": "display_data"
    },
    {
     "data": {
      "image/png": "[encoded data removed]",
      "text/plain": [
       "<matplotlib.figure.Figure at 0x1a1db47240>"
      ]
     },
     "metadata": {},
     "output_type": "display_data"
    }
   ],
   "source": [
    "print('Plot histograms for the following three columns')\n",
    "plt.hist(retention.apret, 20)\n",
    "plt.suptitle('Apret histogram')\n",
    "plt.show()\n",
    "\n",
    "plt.hist(retention.salar, 20)\n",
    "plt.suptitle('Salar histogram')\n",
    "plt.show()\n",
    "\n",
    "plt.hist(retention.tstsc, 20)\n",
    "plt.suptitle('Tstsc histogram')\n",
    "plt.show()"
   ]
  },
  {
   "cell_type": "markdown",
   "metadata": {},
   "source": [
    "# b. Perform linear regression of apret on tstsc and salar separately and then of apret on both tstsc and salar. "
   ]
  },
  {
   "cell_type": "code",
   "execution_count": 95,
   "metadata": {},
   "outputs": [
    {
     "data": {
      "image/png": "[encoded data removed]",
      "text/plain": [
       "<matplotlib.figure.Figure at 0x1a1b9422b0>"
      ]
     },
     "metadata": {},
     "output_type": "display_data"
    }
   ],
   "source": [
    "sns.regplot(x='tstsc', y='apret', data=retention[['apret','tstsc']])\n",
    "_ = plt.title('Linear regression of apret on tstsc.')"
   ]
  },
  {
   "cell_type": "code",
   "execution_count": 132,
   "metadata": {},
   "outputs": [
    {
     "data": {
      "image/png": "[encoded data removed]",
      "text/plain": [
       "<matplotlib.figure.Figure at 0x1a2f2b4048>"
      ]
     },
     "metadata": {},
     "output_type": "display_data"
    }
   ],
   "source": [
    "sns.regplot(x='salar', y='apret', data=retention[['apret', 'salar']])\n",
    "result = plt.title('Linear regression of apret on salar')"
   ]
  },
  {
   "cell_type": "code",
   "execution_count": 137,
   "metadata": {
    "scrolled": true
   },
   "outputs": [
    {
     "data": {
      "image/png": "[encoded data removed]",
      "text/plain": [
       "<matplotlib.figure.Figure at 0x1a2f8ef630>"
      ]
     },
     "metadata": {},
     "output_type": "display_data"
    }
   ],
   "source": [
    "sns.regplot(x='tstsc', y='apret', data=retention[['apret','tstsc']])\n",
    "sns.regplot(x='salar', y='apret', data=retention[['apret', 'salar']])\n",
    "result = plt.title('Linear regression of apret on both salar and tstsc')\n",
    "plt.xlabel('tstsc and salar')\n",
    "plt.show()"
   ]
  },
  {
   "cell_type": "markdown",
   "metadata": {},
   "source": [
    "# c. Test normality of each colum"
   ]
  },
  {
   "cell_type": "code",
   "execution_count": 128,
   "metadata": {},
   "outputs": [
    {
     "name": "stdout",
     "output_type": "stream",
     "text": [
      "spend does not obey normal distribution\n",
      "apret obey normal distribution\n",
      "top10 does not obey normal distribution\n",
      "rejr does not obey normal distribution\n",
      "tstsc does not obey normal distribution\n",
      "pacc does not obey normal distribution\n",
      "strat obey normal distribution\n",
      "salar obey normal distribution\n"
     ]
    }
   ],
   "source": [
    "import scipy.stats as stats\n",
    "# H0: make an assumption that all colums in retention table obey normal distribution\n",
    "# alpha level is .05 for a two-tail test.\n",
    "# if p-value > alpha, \n",
    "# if p-value <= alpha/2, we should reject H0 and make an assumption that the colum doesn't obey normal distribution.\n",
    "def check_norm(data, colum_name):\n",
    "    alpha=.05\n",
    "    p_value = stats.shapiro(data)[1]\n",
    "    if p_value>alpha/2:\n",
    "        print(colum_name, \"obey normal distribution\")\n",
    "    else: \n",
    "        print(colum_name, \"does not obey normal distribution\")\n",
    "\n",
    "check_norm(retention.spend, 'spend')\n",
    "check_norm(retention.apret, 'apret')\n",
    "check_norm(retention.top10, 'top10')\n",
    "check_norm(retention.rejr, 'rejr')\n",
    "check_norm(retention.tstsc, 'tstsc')\n",
    "check_norm(retention.pacc, 'pacc')\n",
    "check_norm(retention.strat, 'strat')\n",
    "check_norm(retention.salar, 'salar')"
   ]
  },
  {
   "cell_type": "markdown",
   "metadata": {},
   "source": [
    "# d. Correlation & Coefficient"
   ]
  },
  {
   "cell_type": "code",
   "execution_count": 126,
   "metadata": {},
   "outputs": [
    {
     "name": "stdout",
     "output_type": "stream",
     "text": [
      "Correlation matrix using pearson method\n"
     ]
    },
    {
     "data": {
      "text/html": [
       "<div>\n",
       "<style>\n",
       "    .dataframe thead tr:only-child th {\n",
       "        text-align: right;\n",
       "    }\n",
       "\n",
       "    .dataframe thead th {\n",
       "        text-align: left;\n",
       "    }\n",
       "\n",
       "    .dataframe tbody tr th {\n",
       "        vertical-align: top;\n",
       "    }\n",
       "</style>\n",
       "<table border=\"1\" class=\"dataframe\">\n",
       "  <thead>\n",
       "    <tr style=\"text-align: right;\">\n",
       "      <th></th>\n",
       "      <th>spend</th>\n",
       "      <th>apret</th>\n",
       "      <th>top10</th>\n",
       "      <th>rejr</th>\n",
       "      <th>tstsc</th>\n",
       "      <th>pacc</th>\n",
       "      <th>strat</th>\n",
       "      <th>salar</th>\n",
       "    </tr>\n",
       "  </thead>\n",
       "  <tbody>\n",
       "    <tr>\n",
       "      <th>spend</th>\n",
       "      <td>1.000000</td>\n",
       "      <td>0.601231</td>\n",
       "      <td>0.675656</td>\n",
       "      <td>0.633544</td>\n",
       "      <td>0.714910</td>\n",
       "      <td>-0.236730</td>\n",
       "      <td>-0.561755</td>\n",
       "      <td>0.711838</td>\n",
       "    </tr>\n",
       "    <tr>\n",
       "      <th>apret</th>\n",
       "      <td>0.601231</td>\n",
       "      <td>1.000000</td>\n",
       "      <td>0.642464</td>\n",
       "      <td>0.514958</td>\n",
       "      <td>0.782183</td>\n",
       "      <td>-0.302834</td>\n",
       "      <td>-0.458311</td>\n",
       "      <td>0.635852</td>\n",
       "    </tr>\n",
       "    <tr>\n",
       "      <th>top10</th>\n",
       "      <td>0.675656</td>\n",
       "      <td>0.642464</td>\n",
       "      <td>1.000000</td>\n",
       "      <td>0.643163</td>\n",
       "      <td>0.798807</td>\n",
       "      <td>-0.207505</td>\n",
       "      <td>-0.247857</td>\n",
       "      <td>0.637648</td>\n",
       "    </tr>\n",
       "    <tr>\n",
       "      <th>rejr</th>\n",
       "      <td>0.633544</td>\n",
       "      <td>0.514958</td>\n",
       "      <td>0.643163</td>\n",
       "      <td>1.000000</td>\n",
       "      <td>0.628601</td>\n",
       "      <td>-0.071521</td>\n",
       "      <td>-0.283617</td>\n",
       "      <td>0.606777</td>\n",
       "    </tr>\n",
       "    <tr>\n",
       "      <th>tstsc</th>\n",
       "      <td>0.714910</td>\n",
       "      <td>0.782183</td>\n",
       "      <td>0.798807</td>\n",
       "      <td>0.628601</td>\n",
       "      <td>1.000000</td>\n",
       "      <td>-0.164223</td>\n",
       "      <td>-0.465226</td>\n",
       "      <td>0.715472</td>\n",
       "    </tr>\n",
       "    <tr>\n",
       "      <th>pacc</th>\n",
       "      <td>-0.236730</td>\n",
       "      <td>-0.302834</td>\n",
       "      <td>-0.207505</td>\n",
       "      <td>-0.071521</td>\n",
       "      <td>-0.164223</td>\n",
       "      <td>1.000000</td>\n",
       "      <td>0.131858</td>\n",
       "      <td>-0.375240</td>\n",
       "    </tr>\n",
       "    <tr>\n",
       "      <th>strat</th>\n",
       "      <td>-0.561755</td>\n",
       "      <td>-0.458311</td>\n",
       "      <td>-0.247857</td>\n",
       "      <td>-0.283617</td>\n",
       "      <td>-0.465226</td>\n",
       "      <td>0.131858</td>\n",
       "      <td>1.000000</td>\n",
       "      <td>-0.347673</td>\n",
       "    </tr>\n",
       "    <tr>\n",
       "      <th>salar</th>\n",
       "      <td>0.711838</td>\n",
       "      <td>0.635852</td>\n",
       "      <td>0.637648</td>\n",
       "      <td>0.606777</td>\n",
       "      <td>0.715472</td>\n",
       "      <td>-0.375240</td>\n",
       "      <td>-0.347673</td>\n",
       "      <td>1.000000</td>\n",
       "    </tr>\n",
       "  </tbody>\n",
       "</table>\n",
       "</div>"
      ],
      "text/plain": [
       "          spend     apret     top10      rejr     tstsc      pacc     strat  \\\n",
       "spend  1.000000  0.601231  0.675656  0.633544  0.714910 -0.236730 -0.561755   \n",
       "apret  0.601231  1.000000  0.642464  0.514958  0.782183 -0.302834 -0.458311   \n",
       "top10  0.675656  0.642464  1.000000  0.643163  0.798807 -0.207505 -0.247857   \n",
       "rejr   0.633544  0.514958  0.643163  1.000000  0.628601 -0.071521 -0.283617   \n",
       "tstsc  0.714910  0.782183  0.798807  0.628601  1.000000 -0.164223 -0.465226   \n",
       "pacc  -0.236730 -0.302834 -0.207505 -0.071521 -0.164223  1.000000  0.131858   \n",
       "strat -0.561755 -0.458311 -0.247857 -0.283617 -0.465226  0.131858  1.000000   \n",
       "salar  0.711838  0.635852  0.637648  0.606777  0.715472 -0.375240 -0.347673   \n",
       "\n",
       "          salar  \n",
       "spend  0.711838  \n",
       "apret  0.635852  \n",
       "top10  0.637648  \n",
       "rejr   0.606777  \n",
       "tstsc  0.715472  \n",
       "pacc  -0.375240  \n",
       "strat -0.347673  \n",
       "salar  1.000000  "
      ]
     },
     "execution_count": 126,
     "metadata": {},
     "output_type": "execute_result"
    }
   ],
   "source": [
    "print('Correlation matrix using pearson method')\n",
    "retention.corr(method='pearson')"
   ]
  },
  {
   "cell_type": "code",
   "execution_count": 130,
   "metadata": {},
   "outputs": [
    {
     "name": "stdout",
     "output_type": "stream",
     "text": [
      "==============================================================================\n",
      "                 coef    std err          t      P>|t|      [0.025      0.975]\n",
      "------------------------------------------------------------------------------\n",
      "Intercept     34.9268      2.383     14.657      0.000      30.222      39.631\n",
      "salar          0.0005   3.84e-05     13.274      0.000       0.000       0.001\n",
      "==============================================================================\n",
      "p-values are:\n",
      " Intercept    7.358734e-32\n",
      "salar        5.840126e-28\n",
      "dtype: float64\n"
     ]
    }
   ],
   "source": [
    "# As can be seen in table above, the correlation of salar and tstsc is close. \n",
    "# Then we want to find the coeffecient of these two variables.\n",
    "# Find the P-value of the TV feature and the 95% confidence interval of the corresponding coefficients.\n",
    "\n",
    "import statsmodels.formula.api as smf\n",
    "model=smf.ols('tstsc ~ salar', retention) \n",
    "Fitting_results=model.fit() \n",
    "print(Fitting_results.summary().tables[1])\n",
    "print('p-values are:\\n',Fitting_results.pvalues)"
   ]
  }
 ],
 "metadata": {
  "kernelspec": {
   "display_name": "Python 3",
   "language": "python",
   "name": "python3"
  },
  "language_info": {
   "codemirror_mode": {
    "name": "ipython",
    "version": 3
   },
   "file_extension": ".py",
   "mimetype": "text/x-python",
   "name": "python",
   "nbconvert_exporter": "python",
   "pygments_lexer": "ipython3",
   "version": "3.6.3"
  }
 },
 "nbformat": 4,
 "nbformat_minor": 2
}
